{
 "cells": [
  {
   "cell_type": "markdown",
   "metadata": {},
   "source": [
    "## Work\n",
    "1. 請嘗試將 preproc_x 替換成以每筆資料的 min/max 進行標準化至 -1 ~ 1 間，再進行訓練\n",
    "2. 請嘗試將 mlp 疊更深 (e.g 5~10 層)，進行訓練後觀察 learning curve 的走勢\n",
    "3. (optional) 請改用 GPU 進行訓練 (如果你有 GPU 的話)，比較使用 CPU 與 GPU 的訓練速度"
   ]
  },
  {
   "cell_type": "code",
   "execution_count": 1,
   "metadata": {},
   "outputs": [
    {
     "name": "stdout",
     "output_type": "stream",
     "text": [
      "Mon Jul 06 00:04:53 2020       \n",
      "+-----------------------------------------------------------------------------+\n",
      "| NVIDIA-SMI 390.77                 Driver Version: 390.77                    |\n",
      "|-------------------------------+----------------------+----------------------+\n",
      "| GPU  Name            TCC/WDDM | Bus-Id        Disp.A | Volatile Uncorr. ECC |\n",
      "| Fan  Temp  Perf  Pwr:Usage/Cap|         Memory-Usage | GPU-Util  Compute M. |\n",
      "|===============================+======================+======================|\n",
      "|   0  GeForce GTX 105... WDDM  | 00000000:01:00.0  On |                  N/A |\n",
      "| 29%   47C    P0    N/A /  75W |   1375MiB /  4096MiB |      4%      Default |\n",
      "+-------------------------------+----------------------+----------------------+\n",
      "                                                                               \n",
      "+-----------------------------------------------------------------------------+\n",
      "| Processes:                                                       GPU Memory |\n",
      "|  GPU       PID   Type   Process name                             Usage      |\n",
      "|=============================================================================|\n",
      "|    0      2532    C+G   ...16211.0_x64__8wekyb3d8bbwe\\Video.UI.exe N/A      |\n",
      "|    0      3004    C+G   ...6.102.0_x64__kzf8qxf38zg5c\\SkypeApp.exe N/A      |\n",
      "|    0      5760    C+G   C:\\Windows\\explorer.exe                    N/A      |\n",
      "|    0      6788    C+G   ...oftEdge_8wekyb3d8bbwe\\MicrosoftEdge.exe N/A      |\n",
      "|    0      8328    C+G   ...x64__8wekyb3d8bbwe\\Microsoft.Photos.exe N/A      |\n",
      "|    0      8956    C+G   ...osoft.LockApp_cw5n1h2txyewy\\LockApp.exe N/A      |\n",
      "|    0      9876    C+G   ...6)\\Google\\Chrome\\Application\\chrome.exe N/A      |\n",
      "|    0     10100    C+G   Insufficient Permissions                   N/A      |\n",
      "|    0     10744    C+G   ...hell.Experiences.TextInput.InputApp.exe N/A      |\n",
      "|    0     11252    C+G   ...dows.Cortana_cw5n1h2txyewy\\SearchUI.exe N/A      |\n",
      "|    0     11268    C+G   ...5n1h2txyewy\\StartMenuExperienceHost.exe N/A      |\n",
      "|    0     11392    C+G   ...t_cw5n1h2txyewy\\ShellExperienceHost.exe N/A      |\n",
      "|    0     12608    C+G   ....110.0_x64__8wekyb3d8bbwe\\YourPhone.exe N/A      |\n",
      "+-----------------------------------------------------------------------------+\n"
     ]
    }
   ],
   "source": [
    "## \n",
    "\"\"\"\n",
    "Your code here (optional)\n",
    "確認硬體資源\n",
    "\"\"\"\n",
    "!nvidia-smi"
   ]
  },
  {
   "cell_type": "code",
   "execution_count": 2,
   "metadata": {},
   "outputs": [],
   "source": [
    "import os\n",
    "import keras\n",
    "\n",
    "# 請嘗試設定 GPU：os.environ\n",
    "os.environ[\"CUDA_VISIBLE_DEVICES\"] = \"0\""
   ]
  },
  {
   "cell_type": "code",
   "execution_count": 3,
   "metadata": {},
   "outputs": [],
   "source": [
    "train, test = keras.datasets.cifar10.load_data()"
   ]
  },
  {
   "cell_type": "code",
   "execution_count": 7,
   "metadata": {},
   "outputs": [],
   "source": [
    "## 資料前處理\n",
    "\"\"\"\n",
    "Your code here\n",
    "\"\"\"\n",
    "def preproc_x(x, flatten=True):\n",
    "    x = ((x - x.min()) / (x.max()-x.min()) - 0.5) * 2\n",
    "    if flatten:\n",
    "        x = x.reshape((len(x), -1))\n",
    "    return x\n",
    "\n",
    "def preproc_y(y, num_classes=10):\n",
    "    if y.shape[-1] == 1:\n",
    "        y = keras.utils.to_categorical(y, num_classes)\n",
    "    return y    "
   ]
  },
  {
   "cell_type": "code",
   "execution_count": 8,
   "metadata": {},
   "outputs": [],
   "source": [
    "x_train, y_train = train\n",
    "x_test, y_test = test\n",
    "\n",
    "# Preproc the inputs\n",
    "x_train = preproc_x(x_train)\n",
    "x_test = preproc_x(x_test)\n",
    "\n",
    "# Preprc the outputs\n",
    "y_train = preproc_y(y_train)\n",
    "y_test = preproc_y(y_test)"
   ]
  },
  {
   "cell_type": "code",
   "execution_count": 10,
   "metadata": {},
   "outputs": [
    {
     "name": "stdout",
     "output_type": "stream",
     "text": [
      "Model: \"model\"\n",
      "_________________________________________________________________\n",
      "Layer (type)                 Output Shape              Param #   \n",
      "=================================================================\n",
      "input_1 (InputLayer)         [(None, 3072)]            0         \n",
      "_________________________________________________________________\n",
      "hidden_layer1 (Dense)        (None, 1024)              3146752   \n",
      "_________________________________________________________________\n",
      "hidden_layer2 (Dense)        (None, 512)               524800    \n",
      "_________________________________________________________________\n",
      "hidden_layer3 (Dense)        (None, 256)               131328    \n",
      "_________________________________________________________________\n",
      "hidden_layer4 (Dense)        (None, 128)               32896     \n",
      "_________________________________________________________________\n",
      "hidden_layer5 (Dense)        (None, 64)                8256      \n",
      "_________________________________________________________________\n",
      "hidden_layer6 (Dense)        (None, 32)                2080      \n",
      "_________________________________________________________________\n",
      "output (Dense)               (None, 10)                330       \n",
      "=================================================================\n",
      "Total params: 3,846,442\n",
      "Trainable params: 3,846,442\n",
      "Non-trainable params: 0\n",
      "_________________________________________________________________\n"
     ]
    }
   ],
   "source": [
    "\"\"\"Code Here\n",
    "建立你的神經網路\n",
    "\"\"\"\n",
    "def build_mlp(input_shape, output_units=10, num_neurons=[1024, 512, 256, 128, 64]):\n",
    "    input_layer = keras.layers.Input(input_shape)\n",
    "    \n",
    "    for i, n_units in enumerate(num_neurons):\n",
    "        if i == 0:\n",
    "            x = keras.layers.Dense(units=n_units, activation=\"relu\", name=\"hidden_layer\"+str(i+1))(input_layer)\n",
    "        else:\n",
    "            x = keras.layers.Dense(units=n_units, activation=\"relu\", name=\"hidden_layer\"+str(i+1))(x)\n",
    "    \n",
    "    out = keras.layers.Dense(units=output_units, activation=\"softmax\", name=\"output\")(x)\n",
    "    \n",
    "    model = keras.models.Model(inputs=[input_layer], outputs=[out])\n",
    "    return model\n",
    "\n",
    "model = build_mlp(input_shape=x_train.shape[1:], num_neurons=[1024, 512, 256, 128, 64, 32])\n",
    "model.summary()"
   ]
  },
  {
   "cell_type": "code",
   "execution_count": 11,
   "metadata": {},
   "outputs": [],
   "source": [
    "## 超參數設定\n",
    "LEARNING_RATE = 0.001\n",
    "EPOCHS = 100\n",
    "BATCH_SIZE = 256"
   ]
  },
  {
   "cell_type": "code",
   "execution_count": 12,
   "metadata": {},
   "outputs": [],
   "source": [
    "optimizer = keras.optimizers.Adam(lr=LEARNING_RATE)\n",
    "model.compile(loss=\"categorical_crossentropy\", metrics=[\"accuracy\"], optimizer=optimizer)"
   ]
  },
  {
   "cell_type": "code",
   "execution_count": 13,
   "metadata": {},
   "outputs": [
    {
     "name": "stdout",
     "output_type": "stream",
     "text": [
      "Epoch 1/100\n",
      "196/196 [==============================] - 8s 42ms/step - loss: 1.7089 - accuracy: 0.3900 - val_loss: 1.5590 - val_accuracy: 0.4533\n",
      "Epoch 2/100\n",
      "196/196 [==============================] - 8s 41ms/step - loss: 1.4628 - accuracy: 0.4832 - val_loss: 1.4551 - val_accuracy: 0.4881\n",
      "Epoch 3/100\n",
      "196/196 [==============================] - 8s 42ms/step - loss: 1.3380 - accuracy: 0.5295 - val_loss: 1.3811 - val_accuracy: 0.5159\n",
      "Epoch 4/100\n",
      "196/196 [==============================] - 8s 40ms/step - loss: 1.2370 - accuracy: 0.5631 - val_loss: 1.3774 - val_accuracy: 0.5198\n",
      "Epoch 5/100\n",
      "196/196 [==============================] - 8s 40ms/step - loss: 1.1446 - accuracy: 0.5983 - val_loss: 1.3504 - val_accuracy: 0.5366\n",
      "Epoch 6/100\n",
      "196/196 [==============================] - 8s 41ms/step - loss: 1.0471 - accuracy: 0.6292 - val_loss: 1.3415 - val_accuracy: 0.5369\n",
      "Epoch 7/100\n",
      "196/196 [==============================] - 8s 40ms/step - loss: 0.9644 - accuracy: 0.6589 - val_loss: 1.3795 - val_accuracy: 0.5461\n",
      "Epoch 8/100\n",
      "196/196 [==============================] - 8s 41ms/step - loss: 0.8814 - accuracy: 0.6891 - val_loss: 1.4206 - val_accuracy: 0.5463\n",
      "Epoch 9/100\n",
      "196/196 [==============================] - 9s 44ms/step - loss: 0.7960 - accuracy: 0.7166 - val_loss: 1.4088 - val_accuracy: 0.5477\n",
      "Epoch 10/100\n",
      "196/196 [==============================] - 8s 41ms/step - loss: 0.7155 - accuracy: 0.7478 - val_loss: 1.5204 - val_accuracy: 0.5424\n",
      "Epoch 11/100\n",
      "196/196 [==============================] - 8s 41ms/step - loss: 0.6389 - accuracy: 0.7735 - val_loss: 1.5550 - val_accuracy: 0.5407\n",
      "Epoch 12/100\n",
      "196/196 [==============================] - 8s 41ms/step - loss: 0.5584 - accuracy: 0.8006 - val_loss: 1.7128 - val_accuracy: 0.5429\n",
      "Epoch 13/100\n",
      "196/196 [==============================] - 8s 41ms/step - loss: 0.5074 - accuracy: 0.8187 - val_loss: 1.7767 - val_accuracy: 0.5348\n",
      "Epoch 14/100\n",
      "196/196 [==============================] - 8s 42ms/step - loss: 0.4467 - accuracy: 0.8417 - val_loss: 1.8391 - val_accuracy: 0.5444\n",
      "Epoch 15/100\n",
      "196/196 [==============================] - 8s 42ms/step - loss: 0.4001 - accuracy: 0.8599 - val_loss: 1.9933 - val_accuracy: 0.5385\n",
      "Epoch 16/100\n",
      "196/196 [==============================] - 8s 42ms/step - loss: 0.3574 - accuracy: 0.8730 - val_loss: 2.0267 - val_accuracy: 0.5419\n",
      "Epoch 17/100\n",
      "196/196 [==============================] - 8s 43ms/step - loss: 0.3198 - accuracy: 0.8879 - val_loss: 2.2670 - val_accuracy: 0.5523\n",
      "Epoch 18/100\n",
      "196/196 [==============================] - 9s 44ms/step - loss: 0.2852 - accuracy: 0.8998 - val_loss: 2.3126 - val_accuracy: 0.5440\n",
      "Epoch 19/100\n",
      "196/196 [==============================] - 9s 44ms/step - loss: 0.2717 - accuracy: 0.9048 - val_loss: 2.5115 - val_accuracy: 0.5411\n",
      "Epoch 20/100\n",
      "196/196 [==============================] - 8s 42ms/step - loss: 0.2621 - accuracy: 0.9086 - val_loss: 2.4957 - val_accuracy: 0.5332\n",
      "Epoch 21/100\n",
      "196/196 [==============================] - 9s 45ms/step - loss: 0.2287 - accuracy: 0.9203 - val_loss: 2.6903 - val_accuracy: 0.5415\n",
      "Epoch 22/100\n",
      "196/196 [==============================] - 9s 45ms/step - loss: 0.2212 - accuracy: 0.9241 - val_loss: 2.6749 - val_accuracy: 0.5407\n",
      "Epoch 23/100\n",
      "196/196 [==============================] - 9s 44ms/step - loss: 0.1944 - accuracy: 0.9319 - val_loss: 2.7715 - val_accuracy: 0.5421\n",
      "Epoch 24/100\n",
      "196/196 [==============================] - 9s 45ms/step - loss: 0.1765 - accuracy: 0.9391 - val_loss: 2.7662 - val_accuracy: 0.5437\n",
      "Epoch 25/100\n",
      "196/196 [==============================] - 9s 44ms/step - loss: 0.1760 - accuracy: 0.9392 - val_loss: 2.7957 - val_accuracy: 0.5372\n",
      "Epoch 26/100\n",
      "196/196 [==============================] - 8s 43ms/step - loss: 0.1642 - accuracy: 0.9441 - val_loss: 2.8836 - val_accuracy: 0.5511\n",
      "Epoch 27/100\n",
      "196/196 [==============================] - 8s 43ms/step - loss: 0.1637 - accuracy: 0.9445 - val_loss: 2.8615 - val_accuracy: 0.5412\n",
      "Epoch 28/100\n",
      "196/196 [==============================] - 9s 44ms/step - loss: 0.1539 - accuracy: 0.9473 - val_loss: 3.1095 - val_accuracy: 0.5458\n",
      "Epoch 29/100\n",
      "196/196 [==============================] - 9s 44ms/step - loss: 0.1477 - accuracy: 0.9503 - val_loss: 3.0259 - val_accuracy: 0.5406\n",
      "Epoch 30/100\n",
      "196/196 [==============================] - 9s 44ms/step - loss: 0.1384 - accuracy: 0.9530 - val_loss: 3.2347 - val_accuracy: 0.5512\n",
      "Epoch 31/100\n",
      "196/196 [==============================] - 9s 44ms/step - loss: 0.1314 - accuracy: 0.9550 - val_loss: 3.2209 - val_accuracy: 0.5379\n",
      "Epoch 32/100\n",
      "196/196 [==============================] - 9s 44ms/step - loss: 0.1368 - accuracy: 0.9543 - val_loss: 3.0444 - val_accuracy: 0.5397\n",
      "Epoch 33/100\n",
      "196/196 [==============================] - 9s 44ms/step - loss: 0.1251 - accuracy: 0.9576 - val_loss: 3.4557 - val_accuracy: 0.5379\n",
      "Epoch 34/100\n",
      "196/196 [==============================] - 8s 43ms/step - loss: 0.1229 - accuracy: 0.9579 - val_loss: 3.3203 - val_accuracy: 0.5414\n",
      "Epoch 35/100\n",
      "196/196 [==============================] - 8s 43ms/step - loss: 0.1064 - accuracy: 0.9645 - val_loss: 3.4387 - val_accuracy: 0.5511\n",
      "Epoch 36/100\n",
      "196/196 [==============================] - 8s 43ms/step - loss: 0.1161 - accuracy: 0.9625 - val_loss: 3.1932 - val_accuracy: 0.5390\n",
      "Epoch 37/100\n",
      "196/196 [==============================] - 8s 43ms/step - loss: 0.1170 - accuracy: 0.9617 - val_loss: 3.4148 - val_accuracy: 0.5505\n",
      "Epoch 38/100\n",
      "196/196 [==============================] - 9s 44ms/step - loss: 0.0919 - accuracy: 0.9698 - val_loss: 3.4287 - val_accuracy: 0.5406\n",
      "Epoch 39/100\n",
      "196/196 [==============================] - 9s 44ms/step - loss: 0.1031 - accuracy: 0.9668 - val_loss: 3.5312 - val_accuracy: 0.5406\n",
      "Epoch 40/100\n",
      "196/196 [==============================] - 9s 44ms/step - loss: 0.1159 - accuracy: 0.9633 - val_loss: 3.4449 - val_accuracy: 0.5460\n",
      "Epoch 41/100\n",
      "196/196 [==============================] - 9s 44ms/step - loss: 0.0951 - accuracy: 0.9676 - val_loss: 3.6329 - val_accuracy: 0.5436\n",
      "Epoch 42/100\n",
      "196/196 [==============================] - 9s 44ms/step - loss: 0.1069 - accuracy: 0.9652 - val_loss: 3.4507 - val_accuracy: 0.5420\n",
      "Epoch 43/100\n",
      "196/196 [==============================] - 9s 45ms/step - loss: 0.0883 - accuracy: 0.9705 - val_loss: 3.6552 - val_accuracy: 0.5446\n",
      "Epoch 44/100\n",
      "196/196 [==============================] - 9s 45ms/step - loss: 0.1051 - accuracy: 0.9657 - val_loss: 3.5647 - val_accuracy: 0.5394\n",
      "Epoch 45/100\n",
      "196/196 [==============================] - 9s 44ms/step - loss: 0.0835 - accuracy: 0.9716 - val_loss: 3.6942 - val_accuracy: 0.5499\n",
      "Epoch 46/100\n",
      "196/196 [==============================] - 9s 44ms/step - loss: 0.0884 - accuracy: 0.9708 - val_loss: 3.5342 - val_accuracy: 0.5402\n",
      "Epoch 47/100\n",
      "196/196 [==============================] - 9s 44ms/step - loss: 0.0903 - accuracy: 0.9706 - val_loss: 3.7344 - val_accuracy: 0.5481\n",
      "Epoch 48/100\n",
      "196/196 [==============================] - 8s 43ms/step - loss: 0.0794 - accuracy: 0.9740 - val_loss: 3.6983 - val_accuracy: 0.5456\n",
      "Epoch 49/100\n",
      "196/196 [==============================] - 8s 43ms/step - loss: 0.0885 - accuracy: 0.9717 - val_loss: 3.5975 - val_accuracy: 0.5433\n",
      "Epoch 50/100\n",
      "196/196 [==============================] - 9s 45ms/step - loss: 0.0827 - accuracy: 0.9738 - val_loss: 3.6232 - val_accuracy: 0.5407\n",
      "Epoch 51/100\n",
      "196/196 [==============================] - 9s 44ms/step - loss: 0.0870 - accuracy: 0.9722 - val_loss: 3.4631 - val_accuracy: 0.5389\n",
      "Epoch 52/100\n",
      "196/196 [==============================] - 9s 44ms/step - loss: 0.0917 - accuracy: 0.9702 - val_loss: 3.6423 - val_accuracy: 0.5441\n",
      "Epoch 53/100\n",
      "196/196 [==============================] - 9s 44ms/step - loss: 0.0737 - accuracy: 0.9760 - val_loss: 3.7062 - val_accuracy: 0.5607\n",
      "Epoch 54/100\n",
      "196/196 [==============================] - 9s 45ms/step - loss: 0.0687 - accuracy: 0.9779 - val_loss: 3.8673 - val_accuracy: 0.5492\n",
      "Epoch 55/100\n",
      "196/196 [==============================] - 9s 47ms/step - loss: 0.0824 - accuracy: 0.9731 - val_loss: 3.8485 - val_accuracy: 0.5440\n",
      "Epoch 56/100\n",
      "196/196 [==============================] - 9s 46ms/step - loss: 0.0787 - accuracy: 0.9748 - val_loss: 3.7328 - val_accuracy: 0.5391\n",
      "Epoch 57/100\n"
     ]
    },
    {
     "name": "stdout",
     "output_type": "stream",
     "text": [
      "196/196 [==============================] - 9s 45ms/step - loss: 0.0802 - accuracy: 0.9740 - val_loss: 3.8666 - val_accuracy: 0.5461\n",
      "Epoch 58/100\n",
      "196/196 [==============================] - 9s 44ms/step - loss: 0.0676 - accuracy: 0.9780 - val_loss: 3.8007 - val_accuracy: 0.5410\n",
      "Epoch 59/100\n",
      "196/196 [==============================] - 9s 45ms/step - loss: 0.0785 - accuracy: 0.9745 - val_loss: 3.7452 - val_accuracy: 0.5426\n",
      "Epoch 60/100\n",
      "196/196 [==============================] - 9s 45ms/step - loss: 0.0669 - accuracy: 0.9783 - val_loss: 3.9422 - val_accuracy: 0.5445\n",
      "Epoch 61/100\n",
      "196/196 [==============================] - 9s 46ms/step - loss: 0.0774 - accuracy: 0.9748 - val_loss: 3.8440 - val_accuracy: 0.5467\n",
      "Epoch 62/100\n",
      "196/196 [==============================] - 9s 45ms/step - loss: 0.0699 - accuracy: 0.9771 - val_loss: 3.8824 - val_accuracy: 0.5540\n",
      "Epoch 63/100\n",
      "196/196 [==============================] - 9s 48ms/step - loss: 0.0539 - accuracy: 0.9829 - val_loss: 4.1226 - val_accuracy: 0.5510\n",
      "Epoch 64/100\n",
      "196/196 [==============================] - 9s 45ms/step - loss: 0.0856 - accuracy: 0.9735 - val_loss: 3.6884 - val_accuracy: 0.5474\n",
      "Epoch 65/100\n",
      "196/196 [==============================] - 9s 45ms/step - loss: 0.0657 - accuracy: 0.9793 - val_loss: 3.6483 - val_accuracy: 0.5450\n",
      "Epoch 66/100\n",
      "196/196 [==============================] - 9s 45ms/step - loss: 0.0671 - accuracy: 0.9791 - val_loss: 3.8051 - val_accuracy: 0.5432\n",
      "Epoch 67/100\n",
      "196/196 [==============================] - 9s 44ms/step - loss: 0.0599 - accuracy: 0.9808 - val_loss: 3.7752 - val_accuracy: 0.5481\n",
      "Epoch 68/100\n",
      "196/196 [==============================] - 9s 44ms/step - loss: 0.0622 - accuracy: 0.9807 - val_loss: 3.7707 - val_accuracy: 0.5407\n",
      "Epoch 69/100\n",
      "196/196 [==============================] - 9s 46ms/step - loss: 0.0616 - accuracy: 0.9806 - val_loss: 3.7576 - val_accuracy: 0.5516\n",
      "Epoch 70/100\n",
      "196/196 [==============================] - 9s 47ms/step - loss: 0.0521 - accuracy: 0.9833 - val_loss: 3.9192 - val_accuracy: 0.5448\n",
      "Epoch 71/100\n",
      "196/196 [==============================] - 9s 46ms/step - loss: 0.0710 - accuracy: 0.9770 - val_loss: 3.6835 - val_accuracy: 0.5430\n",
      "Epoch 72/100\n",
      "196/196 [==============================] - 9s 44ms/step - loss: 0.0571 - accuracy: 0.9818 - val_loss: 3.7943 - val_accuracy: 0.5504\n",
      "Epoch 73/100\n",
      "196/196 [==============================] - 9s 45ms/step - loss: 0.0741 - accuracy: 0.9779 - val_loss: 3.7799 - val_accuracy: 0.5493\n",
      "Epoch 74/100\n",
      "196/196 [==============================] - 9s 46ms/step - loss: 0.0608 - accuracy: 0.9806 - val_loss: 3.5675 - val_accuracy: 0.5513\n",
      "Epoch 75/100\n",
      "196/196 [==============================] - 9s 46ms/step - loss: 0.0447 - accuracy: 0.9860 - val_loss: 4.1164 - val_accuracy: 0.5386\n",
      "Epoch 76/100\n",
      "196/196 [==============================] - 9s 44ms/step - loss: 0.0701 - accuracy: 0.9773 - val_loss: 3.5387 - val_accuracy: 0.5423\n",
      "Epoch 77/100\n",
      "196/196 [==============================] - 8s 43ms/step - loss: 0.0604 - accuracy: 0.9804 - val_loss: 3.8122 - val_accuracy: 0.5489\n",
      "Epoch 78/100\n",
      "196/196 [==============================] - 8s 43ms/step - loss: 0.0518 - accuracy: 0.9837 - val_loss: 3.8928 - val_accuracy: 0.5424\n",
      "Epoch 79/100\n",
      "196/196 [==============================] - 8s 43ms/step - loss: 0.0479 - accuracy: 0.9849 - val_loss: 3.9065 - val_accuracy: 0.5428\n",
      "Epoch 80/100\n",
      "196/196 [==============================] - 8s 43ms/step - loss: 0.0629 - accuracy: 0.9801 - val_loss: 3.7437 - val_accuracy: 0.5437\n",
      "Epoch 81/100\n",
      "196/196 [==============================] - 9s 44ms/step - loss: 0.0481 - accuracy: 0.9855 - val_loss: 3.9309 - val_accuracy: 0.5419\n",
      "Epoch 82/100\n",
      "196/196 [==============================] - 9s 45ms/step - loss: 0.0533 - accuracy: 0.9829 - val_loss: 4.0326 - val_accuracy: 0.5436\n",
      "Epoch 83/100\n",
      "196/196 [==============================] - 9s 44ms/step - loss: 0.0455 - accuracy: 0.9864 - val_loss: 3.9628 - val_accuracy: 0.5455\n",
      "Epoch 84/100\n",
      "196/196 [==============================] - 8s 43ms/step - loss: 0.0576 - accuracy: 0.9822 - val_loss: 3.8347 - val_accuracy: 0.5485\n",
      "Epoch 85/100\n",
      "196/196 [==============================] - 8s 43ms/step - loss: 0.0583 - accuracy: 0.9823 - val_loss: 3.7074 - val_accuracy: 0.5474\n",
      "Epoch 86/100\n",
      "196/196 [==============================] - 8s 43ms/step - loss: 0.0407 - accuracy: 0.9874 - val_loss: 3.9579 - val_accuracy: 0.5486\n",
      "Epoch 87/100\n",
      "196/196 [==============================] - 8s 42ms/step - loss: 0.0524 - accuracy: 0.9832 - val_loss: 3.8683 - val_accuracy: 0.5550\n",
      "Epoch 88/100\n",
      "196/196 [==============================] - 9s 44ms/step - loss: 0.0562 - accuracy: 0.9825 - val_loss: 3.7902 - val_accuracy: 0.5443\n",
      "Epoch 89/100\n",
      "196/196 [==============================] - 8s 42ms/step - loss: 0.0462 - accuracy: 0.9851 - val_loss: 3.8535 - val_accuracy: 0.5427\n",
      "Epoch 90/100\n",
      "196/196 [==============================] - 8s 43ms/step - loss: 0.0569 - accuracy: 0.9822 - val_loss: 3.8143 - val_accuracy: 0.5453\n",
      "Epoch 91/100\n",
      "196/196 [==============================] - 8s 43ms/step - loss: 0.0572 - accuracy: 0.9829 - val_loss: 3.6896 - val_accuracy: 0.5465\n",
      "Epoch 92/100\n",
      "196/196 [==============================] - 8s 42ms/step - loss: 0.0521 - accuracy: 0.9844 - val_loss: 3.8618 - val_accuracy: 0.5477\n",
      "Epoch 93/100\n",
      "196/196 [==============================] - 8s 42ms/step - loss: 0.0514 - accuracy: 0.9842 - val_loss: 4.0770 - val_accuracy: 0.5457\n",
      "Epoch 94/100\n",
      "196/196 [==============================] - 8s 43ms/step - loss: 0.0454 - accuracy: 0.9857 - val_loss: 3.8712 - val_accuracy: 0.5509\n",
      "Epoch 95/100\n",
      "196/196 [==============================] - 8s 42ms/step - loss: 0.0496 - accuracy: 0.9851 - val_loss: 3.7467 - val_accuracy: 0.5529\n",
      "Epoch 96/100\n",
      "196/196 [==============================] - 8s 41ms/step - loss: 0.0529 - accuracy: 0.9841 - val_loss: 3.7371 - val_accuracy: 0.5469\n",
      "Epoch 97/100\n",
      "196/196 [==============================] - 8s 41ms/step - loss: 0.0348 - accuracy: 0.9892 - val_loss: 4.0536 - val_accuracy: 0.5493\n",
      "Epoch 98/100\n",
      "196/196 [==============================] - 8s 41ms/step - loss: 0.0444 - accuracy: 0.9859 - val_loss: 3.8784 - val_accuracy: 0.5424\n",
      "Epoch 99/100\n",
      "196/196 [==============================] - 8s 41ms/step - loss: 0.0579 - accuracy: 0.9834 - val_loss: 3.6325 - val_accuracy: 0.5488\n",
      "Epoch 100/100\n",
      "196/196 [==============================] - 8s 41ms/step - loss: 0.0375 - accuracy: 0.9879 - val_loss: 3.8662 - val_accuracy: 0.5480\n"
     ]
    },
    {
     "data": {
      "text/plain": [
       "<tensorflow.python.keras.callbacks.History at 0x11f00748f88>"
      ]
     },
     "execution_count": 13,
     "metadata": {},
     "output_type": "execute_result"
    }
   ],
   "source": [
    "model.fit(x_train, y_train, \n",
    "          epochs=EPOCHS, \n",
    "          batch_size=BATCH_SIZE, \n",
    "          validation_data=(x_test, y_test), \n",
    "          shuffle=True)"
   ]
  },
  {
   "cell_type": "code",
   "execution_count": 15,
   "metadata": {},
   "outputs": [
    {
     "data": {
      "image/png": "[encoded data removed]",
      "text/plain": [
       "<Figure size 432x288 with 1 Axes>"
      ]
     },
     "metadata": {
      "needs_background": "light"
     },
     "output_type": "display_data"
    },
    {
     "data": {
      "image/png": "[encoded data removed]",
      "text/plain": [
       "<Figure size 432x288 with 1 Axes>"
      ]
     },
     "metadata": {
      "needs_background": "light"
     },
     "output_type": "display_data"
    }
   ],
   "source": [
    "import matplotlib.pyplot as plt\n",
    "\n",
    "\n",
    "train_loss = model.history.history[\"loss\"]\n",
    "valid_loss = model.history.history[\"val_loss\"]\n",
    "\n",
    "train_acc = model.history.history[\"accuracy\"]\n",
    "valid_acc = model.history.history[\"val_accuracy\"]\n",
    "\n",
    "plt.plot(range(len(train_loss)), train_loss, label=\"train loss\")\n",
    "plt.plot(range(len(valid_loss)), valid_loss, label=\"valid loss\")\n",
    "plt.legend()\n",
    "plt.title(\"Loss\")\n",
    "plt.show()\n",
    "\n",
    "plt.plot(range(len(train_acc)), train_acc, label=\"train accuracy\")\n",
    "plt.plot(range(len(valid_acc)), valid_acc, label=\"valid accuracy\")\n",
    "plt.legend()\n",
    "plt.title(\"Accuracy\")\n",
    "plt.show()"
   ]
  },
  {
   "cell_type": "code",
   "execution_count": null,
   "metadata": {},
   "outputs": [],
   "source": []
  }
 ],
 "metadata": {
  "kernelspec": {
   "display_name": "Python 3",
   "language": "python",
   "name": "python3"
  },
  "language_info": {
   "codemirror_mode": {
    "name": "ipython",
    "version": 3
   },
   "file_extension": ".py",
   "mimetype": "text/x-python",
   "name": "python",
   "nbconvert_exporter": "python",
   "pygments_lexer": "ipython3",
   "version": "3.7.4"
  }
 },
 "nbformat": 4,
 "nbformat_minor": 2
}
