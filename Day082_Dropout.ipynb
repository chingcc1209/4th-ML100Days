{
 "cells": [
  {
   "cell_type": "markdown",
   "metadata": {},
   "source": [
    "## 範例重點\n",
    "* 知道如何在 keras 中加入 dropout\n",
    "* 了解 dropout 中 ratio 的意義與對訓練的影響"
   ]
  },
  {
   "cell_type": "code",
   "execution_count": 1,
   "metadata": {},
   "outputs": [
    {
     "name": "stderr",
     "output_type": "stream",
     "text": [
      "Using TensorFlow backend.\n"
     ]
    }
   ],
   "source": [
    "import os\n",
    "import keras\n",
    "\n",
    "# 本範例不需使用 GPU, 將 GPU 設定為 \"無\"\n",
    "os.environ[\"CUDA_VISIBLE_DEVICES\"] = \"\""
   ]
  },
  {
   "cell_type": "code",
   "execution_count": 2,
   "metadata": {},
   "outputs": [],
   "source": [
    "train, test = keras.datasets.cifar10.load_data()"
   ]
  },
  {
   "cell_type": "code",
   "execution_count": 3,
   "metadata": {},
   "outputs": [],
   "source": [
    "## 資料前處理\n",
    "def preproc_x(x, flatten=True):\n",
    "    x = x / 255.\n",
    "    if flatten:\n",
    "        x = x.reshape((len(x), -1))\n",
    "    return x\n",
    "\n",
    "def preproc_y(y, num_classes=10):\n",
    "    if y.shape[-1] == 1:\n",
    "        y = keras.utils.to_categorical(y, num_classes)\n",
    "    return y    "
   ]
  },
  {
   "cell_type": "code",
   "execution_count": 4,
   "metadata": {},
   "outputs": [],
   "source": [
    "x_train, y_train = train\n",
    "x_test, y_test = test\n",
    "\n",
    "# 資料前處理 - X 標準化\n",
    "x_train = preproc_x(x_train)\n",
    "x_test = preproc_x(x_test)\n",
    "\n",
    "# 資料前處理 -Y 轉成 onehot\n",
    "y_train = preproc_y(y_train)\n",
    "y_test = preproc_y(y_test)"
   ]
  },
  {
   "cell_type": "code",
   "execution_count": 5,
   "metadata": {},
   "outputs": [],
   "source": [
    "from keras.layers import Dropout\n",
    "\n",
    "\"\"\"\n",
    "建立神經網路，並加入 dropout layer\n",
    "\"\"\"\n",
    "def build_mlp(input_shape, output_units=10, num_neurons=[512, 256, 128], drp_ratio=0.2):\n",
    "    input_layer = keras.layers.Input(input_shape)\n",
    "    \n",
    "    for i, n_units in enumerate(num_neurons):\n",
    "        if i == 0:\n",
    "            x = keras.layers.Dense(units=n_units, \n",
    "                                   activation=\"relu\", \n",
    "                                   name=\"hidden_layer\"+str(i+1))(input_layer)\n",
    "            x = Dropout(drp_ratio)(x)\n",
    "        else:\n",
    "            x = keras.layers.Dense(units=n_units, \n",
    "                                   activation=\"relu\", \n",
    "                                   name=\"hidden_layer\"+str(i+1))(x)\n",
    "            x = Dropout(drp_ratio)(x)\n",
    "    \n",
    "    out = keras.layers.Dense(units=output_units, activation=\"softmax\", name=\"output\")(x)\n",
    "    \n",
    "    model = keras.models.Model(inputs=[input_layer], outputs=[out])\n",
    "    return model"
   ]
  },
  {
   "cell_type": "code",
   "execution_count": 6,
   "metadata": {},
   "outputs": [],
   "source": [
    "## 超參數設定\n",
    "LEARNING_RATE = 1e-3\n",
    "EPOCHS = 50\n",
    "BATCH_SIZE = 256\n",
    "MOMENTUM = 0.95\n",
    "Dropout_EXP = 0.25"
   ]
  },
  {
   "cell_type": "code",
   "execution_count": 7,
   "metadata": {
    "scrolled": true
   },
   "outputs": [
    {
     "name": "stdout",
     "output_type": "stream",
     "text": [
      "Model: \"model_1\"\n",
      "_________________________________________________________________\n",
      "Layer (type)                 Output Shape              Param #   \n",
      "=================================================================\n",
      "input_1 (InputLayer)         (None, 3072)              0         \n",
      "_________________________________________________________________\n",
      "hidden_layer1 (Dense)        (None, 512)               1573376   \n",
      "_________________________________________________________________\n",
      "dropout_1 (Dropout)          (None, 512)               0         \n",
      "_________________________________________________________________\n",
      "hidden_layer2 (Dense)        (None, 256)               131328    \n",
      "_________________________________________________________________\n",
      "dropout_2 (Dropout)          (None, 256)               0         \n",
      "_________________________________________________________________\n",
      "hidden_layer3 (Dense)        (None, 128)               32896     \n",
      "_________________________________________________________________\n",
      "dropout_3 (Dropout)          (None, 128)               0         \n",
      "_________________________________________________________________\n",
      "output (Dense)               (None, 10)                1290      \n",
      "=================================================================\n",
      "Total params: 1,738,890\n",
      "Trainable params: 1,738,890\n",
      "Non-trainable params: 0\n",
      "_________________________________________________________________\n",
      "Train on 50000 samples, validate on 10000 samples\n",
      "Epoch 1/50\n",
      "50000/50000 [==============================] - 10s 206us/step - loss: 2.1917 - accuracy: 0.1853 - val_loss: 1.9887 - val_accuracy: 0.2964\n",
      "Epoch 2/50\n",
      "50000/50000 [==============================] - 9s 190us/step - loss: 1.9988 - accuracy: 0.2656 - val_loss: 1.8691 - val_accuracy: 0.3414\n",
      "Epoch 3/50\n",
      "50000/50000 [==============================] - 10s 192us/step - loss: 1.9111 - accuracy: 0.3091 - val_loss: 1.8011 - val_accuracy: 0.3676\n",
      "Epoch 4/50\n",
      "50000/50000 [==============================] - 9s 186us/step - loss: 1.8563 - accuracy: 0.3314 - val_loss: 1.7516 - val_accuracy: 0.3820\n",
      "Epoch 5/50\n",
      "50000/50000 [==============================] - 9s 177us/step - loss: 1.8149 - accuracy: 0.3444 - val_loss: 1.7095 - val_accuracy: 0.3960\n",
      "Epoch 6/50\n",
      "50000/50000 [==============================] - 10s 195us/step - loss: 1.7819 - accuracy: 0.3607 - val_loss: 1.6750 - val_accuracy: 0.4042\n",
      "Epoch 7/50\n",
      "50000/50000 [==============================] - 10s 194us/step - loss: 1.7511 - accuracy: 0.3728 - val_loss: 1.6565 - val_accuracy: 0.4118\n",
      "Epoch 8/50\n",
      "50000/50000 [==============================] - 11s 212us/step - loss: 1.7276 - accuracy: 0.3833 - val_loss: 1.6206 - val_accuracy: 0.4277\n",
      "Epoch 9/50\n",
      "50000/50000 [==============================] - 10s 208us/step - loss: 1.7022 - accuracy: 0.3915 - val_loss: 1.6049 - val_accuracy: 0.4294\n",
      "Epoch 10/50\n",
      "50000/50000 [==============================] - 10s 204us/step - loss: 1.6835 - accuracy: 0.4007 - val_loss: 1.5845 - val_accuracy: 0.4389\n",
      "Epoch 11/50\n",
      "50000/50000 [==============================] - 11s 219us/step - loss: 1.6625 - accuracy: 0.4081 - val_loss: 1.5676 - val_accuracy: 0.4439\n",
      "Epoch 12/50\n",
      "50000/50000 [==============================] - 10s 204us/step - loss: 1.6463 - accuracy: 0.4133 - val_loss: 1.5544 - val_accuracy: 0.4440\n",
      "Epoch 13/50\n",
      "50000/50000 [==============================] - 10s 204us/step - loss: 1.6283 - accuracy: 0.4189 - val_loss: 1.5396 - val_accuracy: 0.4496\n",
      "Epoch 14/50\n",
      "50000/50000 [==============================] - 11s 211us/step - loss: 1.6165 - accuracy: 0.4246 - val_loss: 1.5202 - val_accuracy: 0.4636\n",
      "Epoch 15/50\n",
      "50000/50000 [==============================] - 11s 213us/step - loss: 1.5986 - accuracy: 0.4334 - val_loss: 1.5096 - val_accuracy: 0.4636\n",
      "Epoch 16/50\n",
      "50000/50000 [==============================] - 11s 211us/step - loss: 1.5849 - accuracy: 0.4382 - val_loss: 1.4950 - val_accuracy: 0.4687\n",
      "Epoch 17/50\n",
      "50000/50000 [==============================] - 10s 207us/step - loss: 1.5679 - accuracy: 0.4404 - val_loss: 1.4889 - val_accuracy: 0.4699\n",
      "Epoch 18/50\n",
      "50000/50000 [==============================] - 10s 203us/step - loss: 1.5598 - accuracy: 0.4479 - val_loss: 1.4876 - val_accuracy: 0.4696\n",
      "Epoch 19/50\n",
      "50000/50000 [==============================] - 10s 209us/step - loss: 1.5411 - accuracy: 0.4524 - val_loss: 1.4693 - val_accuracy: 0.4819\n",
      "Epoch 20/50\n",
      "50000/50000 [==============================] - 11s 214us/step - loss: 1.5320 - accuracy: 0.4549 - val_loss: 1.4653 - val_accuracy: 0.4764\n",
      "Epoch 21/50\n",
      "50000/50000 [==============================] - 11s 217us/step - loss: 1.5198 - accuracy: 0.4602 - val_loss: 1.4465 - val_accuracy: 0.4875\n",
      "Epoch 22/50\n",
      "50000/50000 [==============================] - 11s 215us/step - loss: 1.5130 - accuracy: 0.4642 - val_loss: 1.4510 - val_accuracy: 0.4839\n",
      "Epoch 23/50\n",
      "50000/50000 [==============================] - 11s 217us/step - loss: 1.5025 - accuracy: 0.4651 - val_loss: 1.4346 - val_accuracy: 0.4907\n",
      "Epoch 24/50\n",
      "50000/50000 [==============================] - 11s 212us/step - loss: 1.4872 - accuracy: 0.4726 - val_loss: 1.4218 - val_accuracy: 0.4924\n",
      "Epoch 25/50\n",
      "50000/50000 [==============================] - 11s 217us/step - loss: 1.4771 - accuracy: 0.4757 - val_loss: 1.4198 - val_accuracy: 0.4920\n",
      "Epoch 26/50\n",
      "50000/50000 [==============================] - 11s 216us/step - loss: 1.4664 - accuracy: 0.4788 - val_loss: 1.4086 - val_accuracy: 0.4984\n",
      "Epoch 27/50\n",
      "50000/50000 [==============================] - 11s 210us/step - loss: 1.4601 - accuracy: 0.4835 - val_loss: 1.4059 - val_accuracy: 0.4973\n",
      "Epoch 28/50\n",
      "50000/50000 [==============================] - 11s 210us/step - loss: 1.4466 - accuracy: 0.4841 - val_loss: 1.3956 - val_accuracy: 0.5023\n",
      "Epoch 29/50\n",
      "50000/50000 [==============================] - 10s 207us/step - loss: 1.4415 - accuracy: 0.4877 - val_loss: 1.3933 - val_accuracy: 0.5015\n",
      "Epoch 30/50\n",
      "50000/50000 [==============================] - 11s 213us/step - loss: 1.4308 - accuracy: 0.4900 - val_loss: 1.4036 - val_accuracy: 0.4931\n",
      "Epoch 31/50\n",
      "50000/50000 [==============================] - 12s 234us/step - loss: 1.4218 - accuracy: 0.4942 - val_loss: 1.3913 - val_accuracy: 0.4995\n",
      "Epoch 32/50\n",
      "50000/50000 [==============================] - 11s 216us/step - loss: 1.4128 - accuracy: 0.4950 - val_loss: 1.3811 - val_accuracy: 0.5014\n",
      "Epoch 33/50\n",
      "50000/50000 [==============================] - 12s 230us/step - loss: 1.4069 - accuracy: 0.4983 - val_loss: 1.3840 - val_accuracy: 0.5134\n",
      "Epoch 34/50\n",
      "50000/50000 [==============================] - 11s 228us/step - loss: 1.3980 - accuracy: 0.5029 - val_loss: 1.3662 - val_accuracy: 0.5117\n",
      "Epoch 35/50\n",
      "50000/50000 [==============================] - 11s 227us/step - loss: 1.3917 - accuracy: 0.5043 - val_loss: 1.3747 - val_accuracy: 0.5143\n",
      "Epoch 36/50\n",
      "50000/50000 [==============================] - 11s 225us/step - loss: 1.3836 - accuracy: 0.5089 - val_loss: 1.3583 - val_accuracy: 0.5104\n",
      "Epoch 37/50\n",
      "50000/50000 [==============================] - 11s 222us/step - loss: 1.3770 - accuracy: 0.5050 - val_loss: 1.3552 - val_accuracy: 0.5170\n",
      "Epoch 38/50\n",
      "50000/50000 [==============================] - 11s 214us/step - loss: 1.3706 - accuracy: 0.5127 - val_loss: 1.3510 - val_accuracy: 0.5170\n",
      "Epoch 39/50\n",
      "50000/50000 [==============================] - 12s 237us/step - loss: 1.3617 - accuracy: 0.5126 - val_loss: 1.3522 - val_accuracy: 0.5144\n",
      "Epoch 40/50\n",
      "50000/50000 [==============================] - 11s 228us/step - loss: 1.3557 - accuracy: 0.5174 - val_loss: 1.3448 - val_accuracy: 0.5187\n",
      "Epoch 41/50\n",
      "50000/50000 [==============================] - 11s 225us/step - loss: 1.3477 - accuracy: 0.5205 - val_loss: 1.3428 - val_accuracy: 0.5241\n",
      "Epoch 42/50\n",
      "50000/50000 [==============================] - 11s 226us/step - loss: 1.3452 - accuracy: 0.5216 - val_loss: 1.3422 - val_accuracy: 0.5160\n",
      "Epoch 43/50\n",
      "50000/50000 [==============================] - 11s 219us/step - loss: 1.3362 - accuracy: 0.5230 - val_loss: 1.3414 - val_accuracy: 0.5209\n",
      "Epoch 44/50\n",
      "50000/50000 [==============================] - 11s 210us/step - loss: 1.3259 - accuracy: 0.5277 - val_loss: 1.3291 - val_accuracy: 0.5260\n",
      "Epoch 45/50\n",
      "50000/50000 [==============================] - 11s 219us/step - loss: 1.3211 - accuracy: 0.5285 - val_loss: 1.3386 - val_accuracy: 0.5168\n"
     ]
    },
    {
     "name": "stdout",
     "output_type": "stream",
     "text": [
      "Epoch 46/50\n",
      "50000/50000 [==============================] - 11s 218us/step - loss: 1.3133 - accuracy: 0.5298 - val_loss: 1.3333 - val_accuracy: 0.5177\n",
      "Epoch 47/50\n",
      "50000/50000 [==============================] - 12s 237us/step - loss: 1.3080 - accuracy: 0.5343 - val_loss: 1.3219 - val_accuracy: 0.5259\n",
      "Epoch 48/50\n",
      "50000/50000 [==============================] - 11s 221us/step - loss: 1.2978 - accuracy: 0.5363 - val_loss: 1.3159 - val_accuracy: 0.5301\n",
      "Epoch 49/50\n",
      "50000/50000 [==============================] - 11s 223us/step - loss: 1.2915 - accuracy: 0.5381 - val_loss: 1.3237 - val_accuracy: 0.5236\n",
      "Epoch 50/50\n",
      "50000/50000 [==============================] - 11s 228us/step - loss: 1.2868 - accuracy: 0.5407 - val_loss: 1.3156 - val_accuracy: 0.5301\n"
     ]
    }
   ],
   "source": [
    "model = build_mlp(input_shape=x_train.shape[1:], drp_ratio=Dropout_EXP)\n",
    "model.summary()\n",
    "optimizer = keras.optimizers.SGD(lr=LEARNING_RATE, nesterov=True, momentum=MOMENTUM)\n",
    "model.compile(loss=\"categorical_crossentropy\", metrics=[\"accuracy\"], optimizer=optimizer)\n",
    "\n",
    "model.fit(x_train, y_train, \n",
    "          epochs=EPOCHS, \n",
    "          batch_size=BATCH_SIZE, \n",
    "          validation_data=(x_test, y_test), \n",
    "          shuffle=True)\n",
    "\n",
    "# Collect results\n",
    "train_loss = model.history.history[\"loss\"]\n",
    "valid_loss = model.history.history[\"val_loss\"]\n",
    "train_acc = model.history.history[\"accuracy\"]\n",
    "valid_acc = model.history.history[\"val_accuracy\"]"
   ]
  },
  {
   "cell_type": "code",
   "execution_count": 9,
   "metadata": {},
   "outputs": [
    {
     "data": {
      "image/png": "[encoded data removed]",
      "text/plain": [
       "<Figure size 432x288 with 1 Axes>"
      ]
     },
     "metadata": {
      "needs_background": "light"
     },
     "output_type": "display_data"
    },
    {
     "data": {
      "image/png": "[encoded data removed]",
      "text/plain": [
       "<Figure size 432x288 with 1 Axes>"
      ]
     },
     "metadata": {
      "needs_background": "light"
     },
     "output_type": "display_data"
    }
   ],
   "source": [
    "import matplotlib.pyplot as plt\n",
    "%matplotlib inline\n",
    "\n",
    "plt.plot(range(len(train_loss)), train_loss, label=\"train loss\")\n",
    "plt.plot(range(len(valid_loss)), valid_loss, label=\"valid loss\")\n",
    "plt.legend()\n",
    "plt.title(\"Loss\")\n",
    "plt.show()\n",
    "\n",
    "plt.plot(range(len(train_acc)), train_acc, label=\"train accuracy\")\n",
    "plt.plot(range(len(valid_acc)), valid_acc, label=\"valid accuracy\")\n",
    "plt.legend()\n",
    "plt.title(\"Accuracy\")\n",
    "plt.show()"
   ]
  },
  {
   "cell_type": "markdown",
   "metadata": {},
   "source": [
    "## Work\n",
    "1. 請比較使用不同層數以及不同 Dropout rate 對訓練的效果\n",
    "2. 將 optimizer 改成使用 Adam 並加上適當的 dropout rate 檢視結果"
   ]
  }
 ],
 "metadata": {
  "kernelspec": {
   "display_name": "Python 3",
   "language": "python",
   "name": "python3"
  },
  "language_info": {
   "codemirror_mode": {
    "name": "ipython",
    "version": 3
   },
   "file_extension": ".py",
   "mimetype": "text/x-python",
   "name": "python",
   "nbconvert_exporter": "python",
   "pygments_lexer": "ipython3",
   "version": "3.7.4"
  }
 },
 "nbformat": 4,
 "nbformat_minor": 2
}
