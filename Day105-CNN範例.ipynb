{
 "cells": [
  {
   "cell_type": "markdown",
   "metadata": {},
   "source": [
    "# 教學目標:\n",
    "    \n",
    "回顧 CNN 網路"
   ]
  },
  {
   "cell_type": "markdown",
   "metadata": {},
   "source": [
    "# 範例說明:\n",
    "    \n",
    "使用 keras 預載的模型\n",
    "\n",
    "使用 keras VGG16 預訓練的權重\n",
    "\n",
    "了解預測後的結果輸出"
   ]
  },
  {
   "cell_type": "code",
   "execution_count": 1,
   "metadata": {},
   "outputs": [
    {
     "name": "stderr",
     "output_type": "stream",
     "text": [
      "Using TensorFlow backend.\n"
     ]
    },
    {
     "name": "stdout",
     "output_type": "stream",
     "text": [
      "Downloading data from https://github.com/fchollet/deep-learning-models/releases/download/v0.1/vgg16_weights_tf_dim_ordering_tf_kernels_notop.h5\n",
      "58892288/58889256 [==============================] - 28s 0us/step\n",
      "[[[[ 0.          0.          0.         ...  0.          0.\n",
      "     0.        ]\n",
      "   [ 0.          0.          0.22740573 ...  0.          0.\n",
      "     0.        ]\n",
      "   [ 0.          0.          0.         ...  0.          0.\n",
      "     0.        ]\n",
      "   ...\n",
      "   [ 0.          0.          0.         ...  0.          0.\n",
      "     0.        ]\n",
      "   [ 0.          0.          0.         ...  0.          0.\n",
      "     0.        ]\n",
      "   [ 0.          0.          0.         ...  0.          0.\n",
      "     0.        ]]\n",
      "\n",
      "  [[ 0.          0.          0.         ...  0.          0.\n",
      "     0.        ]\n",
      "   [14.766564    0.         16.26762    ...  0.          0.\n",
      "     0.        ]\n",
      "   [13.843526    0.          4.025644   ...  0.          2.1663442\n",
      "     0.        ]\n",
      "   ...\n",
      "   [ 0.          0.          8.849557   ...  0.          0.\n",
      "     0.        ]\n",
      "   [ 5.332757    0.          9.823454   ...  0.          0.\n",
      "     0.        ]\n",
      "   [ 0.          0.          0.         ...  0.          0.\n",
      "     0.        ]]\n",
      "\n",
      "  [[ 0.          0.          0.         ...  0.          0.\n",
      "     0.        ]\n",
      "   [54.816494    0.         32.631466   ... 33.6344      0.\n",
      "     6.1529646 ]\n",
      "   [29.07361     0.         16.777218   ... 19.346361    0.\n",
      "    41.103745  ]\n",
      "   ...\n",
      "   [ 0.          0.          0.         ...  9.588509    0.\n",
      "     0.        ]\n",
      "   [ 0.          0.          0.         ...  0.          0.\n",
      "     0.        ]\n",
      "   [ 0.          0.          0.         ...  0.          0.\n",
      "     0.        ]]\n",
      "\n",
      "  ...\n",
      "\n",
      "  [[ 0.          0.          0.         ...  0.          0.\n",
      "     0.        ]\n",
      "   [ 0.          0.          0.         ...  0.          0.\n",
      "     3.8219306 ]\n",
      "   [ 0.          0.          0.         ...  0.          0.\n",
      "    20.493233  ]\n",
      "   ...\n",
      "   [ 0.          0.         28.123697   ...  0.          0.\n",
      "     0.        ]\n",
      "   [ 0.          0.          6.4126506  ...  0.          0.\n",
      "     0.        ]\n",
      "   [ 0.          0.          0.         ...  0.          0.\n",
      "    10.195459  ]]\n",
      "\n",
      "  [[ 0.          0.          0.         ...  0.          0.\n",
      "     0.        ]\n",
      "   [ 0.          0.          0.         ...  7.171617    0.\n",
      "     0.        ]\n",
      "   [ 0.          0.          0.         ...  0.          0.\n",
      "     0.        ]\n",
      "   ...\n",
      "   [ 0.          0.          2.4547844  ...  0.          0.\n",
      "     0.        ]\n",
      "   [ 0.          0.          0.         ...  0.          0.\n",
      "     0.        ]\n",
      "   [ 0.          0.          0.         ...  0.          0.\n",
      "     0.        ]]\n",
      "\n",
      "  [[ 0.          0.          0.         ...  0.          0.\n",
      "     0.        ]\n",
      "   [ 0.          0.          0.         ...  0.          0.\n",
      "     0.        ]\n",
      "   [ 0.          0.          0.         ...  0.          0.\n",
      "     0.        ]\n",
      "   ...\n",
      "   [ 0.          0.          0.         ...  0.          0.\n",
      "     0.        ]\n",
      "   [ 0.          0.          0.         ...  0.          0.\n",
      "     0.        ]\n",
      "   [ 0.          0.          0.         ...  0.          0.\n",
      "     0.        ]]]]\n"
     ]
    }
   ],
   "source": [
    "from keras.applications.vgg16 import VGG16\n",
    "from keras.preprocessing import image\n",
    "from keras.applications.vgg16 import preprocess_input\n",
    "import numpy as np\n",
    "\n",
    "#載入預訓練模型\n",
    "model = VGG16(weights='imagenet', include_top=False)\n",
    "\n",
    " # VGG 現存模型要找到一張名為elephant.jpg做處理的預設路徑\n",
    "img_path = 'elephant.jpg'\n",
    "#載入影像\n",
    "img = image.load_img(img_path, target_size=(224, 224))\n",
    "x = image.img_to_array(img)\n",
    "x = np.expand_dims(x, axis=0)\n",
    "x = preprocess_input(x)\n",
    "\n",
    "#執行預測\n",
    "features = model.predict(x)\n",
    "print(features)\n",
    "# decode_predictions 輸出5個最高概率：(類別, 語義概念, 預測概率"
   ]
  },
  {
   "cell_type": "code",
   "execution_count": null,
   "metadata": {},
   "outputs": [],
   "source": []
  }
 ],
 "metadata": {
  "kernelspec": {
   "display_name": "Python 3",
   "language": "python",
   "name": "python3"
  },
  "language_info": {
   "codemirror_mode": {
    "name": "ipython",
    "version": 3
   },
   "file_extension": ".py",
   "mimetype": "text/x-python",
   "name": "python",
   "nbconvert_exporter": "python",
   "pygments_lexer": "ipython3",
   "version": "3.7.4"
  }
 },
 "nbformat": 4,
 "nbformat_minor": 2
}
