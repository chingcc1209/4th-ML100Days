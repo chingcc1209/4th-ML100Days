{
 "cells": [
  {
   "cell_type": "markdown",
   "metadata": {},
   "source": [
    "## 範例重點\n",
    "* 學習如何在 keras 中加入 BatchNorm\n",
    "* 知道有無 BN 對訓練的影響\n",
    "* 比較 BN 在不同 batch size 下的效果"
   ]
  },
  {
   "cell_type": "code",
   "execution_count": 1,
   "metadata": {},
   "outputs": [
    {
     "name": "stderr",
     "output_type": "stream",
     "text": [
      "Using TensorFlow backend.\n"
     ]
    }
   ],
   "source": [
    "import os\n",
    "import keras\n",
    "\n",
    "# 本範例不需使用 GPU, 將 GPU 設定為 \"無\"\n",
    "os.environ[\"CUDA_VISIBLE_DEVICES\"] = \"\""
   ]
  },
  {
   "cell_type": "code",
   "execution_count": 2,
   "metadata": {},
   "outputs": [],
   "source": [
    "train, test = keras.datasets.cifar10.load_data()"
   ]
  },
  {
   "cell_type": "code",
   "execution_count": 3,
   "metadata": {},
   "outputs": [],
   "source": [
    "## 資料前處理\n",
    "def preproc_x(x, flatten=True):\n",
    "    x = x / 255.\n",
    "    if flatten:\n",
    "        x = x.reshape((len(x), -1))\n",
    "    return x\n",
    "\n",
    "def preproc_y(y, num_classes=10):\n",
    "    if y.shape[-1] == 1:\n",
    "        y = keras.utils.to_categorical(y, num_classes)\n",
    "    return y    "
   ]
  },
  {
   "cell_type": "code",
   "execution_count": 4,
   "metadata": {},
   "outputs": [],
   "source": [
    "x_train, y_train = train\n",
    "x_test, y_test = test\n",
    "\n",
    "# 資料前處理 - X 標準化\n",
    "x_train = preproc_x(x_train)\n",
    "x_test = preproc_x(x_test)\n",
    "\n",
    "# 資料前處理 -Y 轉成 onehot\n",
    "y_train = preproc_y(y_train)\n",
    "y_test = preproc_y(y_test)"
   ]
  },
  {
   "cell_type": "code",
   "execution_count": 5,
   "metadata": {},
   "outputs": [],
   "source": [
    "from keras.layers import BatchNormalization\n",
    "\n",
    "\"\"\"\n",
    "建立神經網路，並加入 BN layer\n",
    "\"\"\"\n",
    "def build_mlp(input_shape, output_units=10, num_neurons=[512, 256, 128]):\n",
    "    input_layer = keras.layers.Input(input_shape)\n",
    "    \n",
    "    for i, n_units in enumerate(num_neurons):\n",
    "        if i == 0:\n",
    "            x = keras.layers.Dense(units=n_units, \n",
    "                                   activation=\"relu\", \n",
    "                                   name=\"hidden_layer\"+str(i+1))(input_layer)\n",
    "            x = BatchNormalization()(x)\n",
    "        else:\n",
    "            x = keras.layers.Dense(units=n_units, \n",
    "                                   activation=\"relu\", \n",
    "                                   name=\"hidden_layer\"+str(i+1))(x)\n",
    "            x = BatchNormalization()(x)\n",
    "    \n",
    "    out = keras.layers.Dense(units=output_units, activation=\"softmax\", name=\"output\")(x)\n",
    "    \n",
    "    model = keras.models.Model(inputs=[input_layer], outputs=[out])\n",
    "    return model"
   ]
  },
  {
   "cell_type": "code",
   "execution_count": 6,
   "metadata": {},
   "outputs": [],
   "source": [
    "## 超參數設定\n",
    "LEARNING_RATE = 1e-3\n",
    "EPOCHS = 50\n",
    "BATCH_SIZE = 1024\n",
    "MOMENTUM = 0.95"
   ]
  },
  {
   "cell_type": "code",
   "execution_count": 7,
   "metadata": {
    "scrolled": true
   },
   "outputs": [
    {
     "name": "stdout",
     "output_type": "stream",
     "text": [
      "Model: \"model_1\"\n",
      "_________________________________________________________________\n",
      "Layer (type)                 Output Shape              Param #   \n",
      "=================================================================\n",
      "input_1 (InputLayer)         (None, 3072)              0         \n",
      "_________________________________________________________________\n",
      "hidden_layer1 (Dense)        (None, 512)               1573376   \n",
      "_________________________________________________________________\n",
      "batch_normalization_1 (Batch (None, 512)               2048      \n",
      "_________________________________________________________________\n",
      "hidden_layer2 (Dense)        (None, 256)               131328    \n",
      "_________________________________________________________________\n",
      "batch_normalization_2 (Batch (None, 256)               1024      \n",
      "_________________________________________________________________\n",
      "hidden_layer3 (Dense)        (None, 128)               32896     \n",
      "_________________________________________________________________\n",
      "batch_normalization_3 (Batch (None, 128)               512       \n",
      "_________________________________________________________________\n",
      "output (Dense)               (None, 10)                1290      \n",
      "=================================================================\n",
      "Total params: 1,742,474\n",
      "Trainable params: 1,740,682\n",
      "Non-trainable params: 1,792\n",
      "_________________________________________________________________\n",
      "Train on 50000 samples, validate on 10000 samples\n",
      "Epoch 1/50\n",
      "50000/50000 [==============================] - 41s 819us/step - loss: 2.2336 - accuracy: 0.2610 - val_loss: 2.1161 - val_accuracy: 0.2154\n",
      "Epoch 2/50\n",
      "50000/50000 [==============================] - 6s 127us/step - loss: 1.7627 - accuracy: 0.3861 - val_loss: 1.9625 - val_accuracy: 0.3062\n",
      "Epoch 3/50\n",
      "50000/50000 [==============================] - 6s 129us/step - loss: 1.6343 - accuracy: 0.4286 - val_loss: 1.8355 - val_accuracy: 0.3579\n",
      "Epoch 4/50\n",
      "50000/50000 [==============================] - 6s 129us/step - loss: 1.5584 - accuracy: 0.4567 - val_loss: 1.7413 - val_accuracy: 0.3910\n",
      "Epoch 5/50\n",
      "50000/50000 [==============================] - 6s 128us/step - loss: 1.5010 - accuracy: 0.4756 - val_loss: 1.6654 - val_accuracy: 0.4176\n",
      "Epoch 6/50\n",
      "50000/50000 [==============================] - 7s 131us/step - loss: 1.4545 - accuracy: 0.4936 - val_loss: 1.5958 - val_accuracy: 0.4419\n",
      "Epoch 7/50\n",
      "50000/50000 [==============================] - 7s 131us/step - loss: 1.4153 - accuracy: 0.5079 - val_loss: 1.5666 - val_accuracy: 0.4426\n",
      "Epoch 8/50\n",
      "50000/50000 [==============================] - 7s 132us/step - loss: 1.3787 - accuracy: 0.5224 - val_loss: 1.5359 - val_accuracy: 0.4565\n",
      "Epoch 9/50\n",
      "50000/50000 [==============================] - 7s 137us/step - loss: 1.3462 - accuracy: 0.5345 - val_loss: 1.5168 - val_accuracy: 0.4638\n",
      "Epoch 10/50\n",
      "50000/50000 [==============================] - 7s 140us/step - loss: 1.3161 - accuracy: 0.5426 - val_loss: 1.4996 - val_accuracy: 0.4681\n",
      "Epoch 11/50\n",
      "50000/50000 [==============================] - 7s 141us/step - loss: 1.2891 - accuracy: 0.5543 - val_loss: 1.4949 - val_accuracy: 0.4710\n",
      "Epoch 12/50\n",
      "50000/50000 [==============================] - 7s 144us/step - loss: 1.2613 - accuracy: 0.5651 - val_loss: 1.4848 - val_accuracy: 0.4764\n",
      "Epoch 13/50\n",
      "50000/50000 [==============================] - 7s 147us/step - loss: 1.2342 - accuracy: 0.5771 - val_loss: 1.4725 - val_accuracy: 0.4783\n",
      "Epoch 14/50\n",
      "50000/50000 [==============================] - 8s 155us/step - loss: 1.2084 - accuracy: 0.5846 - val_loss: 1.4683 - val_accuracy: 0.4830\n",
      "Epoch 15/50\n",
      "50000/50000 [==============================] - 8s 158us/step - loss: 1.1854 - accuracy: 0.5955 - val_loss: 1.4608 - val_accuracy: 0.4858\n",
      "Epoch 16/50\n",
      "50000/50000 [==============================] - 8s 158us/step - loss: 1.1615 - accuracy: 0.6016 - val_loss: 1.4640 - val_accuracy: 0.4823\n",
      "Epoch 17/50\n",
      "50000/50000 [==============================] - 8s 153us/step - loss: 1.1376 - accuracy: 0.6118 - val_loss: 1.4559 - val_accuracy: 0.4900\n",
      "Epoch 18/50\n",
      "50000/50000 [==============================] - 8s 152us/step - loss: 1.1148 - accuracy: 0.6217 - val_loss: 1.4672 - val_accuracy: 0.4863\n",
      "Epoch 19/50\n",
      "50000/50000 [==============================] - 8s 152us/step - loss: 1.0929 - accuracy: 0.6288 - val_loss: 1.4517 - val_accuracy: 0.4911\n",
      "Epoch 20/50\n",
      "50000/50000 [==============================] - 8s 153us/step - loss: 1.0706 - accuracy: 0.6369 - val_loss: 1.4643 - val_accuracy: 0.4871\n",
      "Epoch 21/50\n",
      "50000/50000 [==============================] - 8s 154us/step - loss: 1.0479 - accuracy: 0.6462 - val_loss: 1.4507 - val_accuracy: 0.4914\n",
      "Epoch 22/50\n",
      "50000/50000 [==============================] - 8s 154us/step - loss: 1.0254 - accuracy: 0.6547 - val_loss: 1.4530 - val_accuracy: 0.4956\n",
      "Epoch 23/50\n",
      "50000/50000 [==============================] - 8s 156us/step - loss: 1.0055 - accuracy: 0.6628 - val_loss: 1.4526 - val_accuracy: 0.4924\n",
      "Epoch 24/50\n",
      "50000/50000 [==============================] - 8s 154us/step - loss: 0.9847 - accuracy: 0.6702 - val_loss: 1.4580 - val_accuracy: 0.4915\n",
      "Epoch 25/50\n",
      "50000/50000 [==============================] - 8s 155us/step - loss: 0.9650 - accuracy: 0.6777 - val_loss: 1.4462 - val_accuracy: 0.5005\n",
      "Epoch 26/50\n",
      "50000/50000 [==============================] - 8s 156us/step - loss: 0.9456 - accuracy: 0.6855 - val_loss: 1.4617 - val_accuracy: 0.4930\n",
      "Epoch 27/50\n",
      "50000/50000 [==============================] - 8s 156us/step - loss: 0.9264 - accuracy: 0.6935 - val_loss: 1.4766 - val_accuracy: 0.4932\n",
      "Epoch 28/50\n",
      "50000/50000 [==============================] - 8s 155us/step - loss: 0.9056 - accuracy: 0.7004 - val_loss: 1.4703 - val_accuracy: 0.4949\n",
      "Epoch 29/50\n",
      "50000/50000 [==============================] - 8s 157us/step - loss: 0.8854 - accuracy: 0.7092 - val_loss: 1.4793 - val_accuracy: 0.4943\n",
      "Epoch 30/50\n",
      "50000/50000 [==============================] - 8s 157us/step - loss: 0.8636 - accuracy: 0.7164 - val_loss: 1.4797 - val_accuracy: 0.4929\n",
      "Epoch 31/50\n",
      "50000/50000 [==============================] - 8s 157us/step - loss: 0.8459 - accuracy: 0.7247 - val_loss: 1.4761 - val_accuracy: 0.4963\n",
      "Epoch 32/50\n",
      "50000/50000 [==============================] - 8s 157us/step - loss: 0.8267 - accuracy: 0.7314 - val_loss: 1.4842 - val_accuracy: 0.5005\n",
      "Epoch 33/50\n",
      "50000/50000 [==============================] - 8s 158us/step - loss: 0.8059 - accuracy: 0.7397 - val_loss: 1.5039 - val_accuracy: 0.4952\n",
      "Epoch 34/50\n",
      "50000/50000 [==============================] - 8s 158us/step - loss: 0.7865 - accuracy: 0.7475 - val_loss: 1.5080 - val_accuracy: 0.4904\n",
      "Epoch 35/50\n",
      "50000/50000 [==============================] - 8s 158us/step - loss: 0.7677 - accuracy: 0.7547 - val_loss: 1.5219 - val_accuracy: 0.4926\n",
      "Epoch 36/50\n",
      "50000/50000 [==============================] - 8s 158us/step - loss: 0.7499 - accuracy: 0.7606 - val_loss: 1.5237 - val_accuracy: 0.4947\n",
      "Epoch 37/50\n",
      "50000/50000 [==============================] - 8s 158us/step - loss: 0.7313 - accuracy: 0.7692 - val_loss: 1.5311 - val_accuracy: 0.4942\n",
      "Epoch 38/50\n",
      "50000/50000 [==============================] - 8s 157us/step - loss: 0.7129 - accuracy: 0.7770 - val_loss: 1.5388 - val_accuracy: 0.4930\n",
      "Epoch 39/50\n",
      "50000/50000 [==============================] - 8s 157us/step - loss: 0.6932 - accuracy: 0.7847 - val_loss: 1.5352 - val_accuracy: 0.4898\n",
      "Epoch 40/50\n",
      "50000/50000 [==============================] - 8s 157us/step - loss: 0.6730 - accuracy: 0.7929 - val_loss: 1.5444 - val_accuracy: 0.4925\n",
      "Epoch 41/50\n",
      "50000/50000 [==============================] - 8s 157us/step - loss: 0.6569 - accuracy: 0.7979 - val_loss: 1.5525 - val_accuracy: 0.4919\n",
      "Epoch 42/50\n",
      "50000/50000 [==============================] - 8s 156us/step - loss: 0.6383 - accuracy: 0.8053 - val_loss: 1.5874 - val_accuracy: 0.4917\n",
      "Epoch 43/50\n",
      "50000/50000 [==============================] - 8s 157us/step - loss: 0.6204 - accuracy: 0.8141 - val_loss: 1.5801 - val_accuracy: 0.4892\n",
      "Epoch 44/50\n",
      "50000/50000 [==============================] - 8s 157us/step - loss: 0.6022 - accuracy: 0.8215 - val_loss: 1.5991 - val_accuracy: 0.4898\n",
      "Epoch 45/50\n",
      "50000/50000 [==============================] - 8s 158us/step - loss: 0.5858 - accuracy: 0.8264 - val_loss: 1.6135 - val_accuracy: 0.4903\n",
      "Epoch 46/50\n"
     ]
    },
    {
     "name": "stdout",
     "output_type": "stream",
     "text": [
      "50000/50000 [==============================] - 8s 156us/step - loss: 0.5666 - accuracy: 0.8338 - val_loss: 1.6284 - val_accuracy: 0.4866\n",
      "Epoch 47/50\n",
      "50000/50000 [==============================] - 8s 156us/step - loss: 0.5499 - accuracy: 0.8434 - val_loss: 1.6346 - val_accuracy: 0.4851\n",
      "Epoch 48/50\n",
      "50000/50000 [==============================] - 8s 158us/step - loss: 0.5356 - accuracy: 0.8462 - val_loss: 1.6728 - val_accuracy: 0.4882\n",
      "Epoch 49/50\n",
      "50000/50000 [==============================] - 8s 160us/step - loss: 0.5170 - accuracy: 0.8531 - val_loss: 1.6548 - val_accuracy: 0.4874\n",
      "Epoch 50/50\n",
      "50000/50000 [==============================] - 8s 158us/step - loss: 0.5012 - accuracy: 0.8589 - val_loss: 1.6771 - val_accuracy: 0.4894\n"
     ]
    }
   ],
   "source": [
    "model = build_mlp(input_shape=x_train.shape[1:])\n",
    "model.summary()\n",
    "optimizer = keras.optimizers.SGD(lr=LEARNING_RATE, nesterov=True, momentum=MOMENTUM)\n",
    "model.compile(loss=\"categorical_crossentropy\", metrics=[\"accuracy\"], optimizer=optimizer)\n",
    "\n",
    "model.fit(x_train, y_train, \n",
    "          epochs=EPOCHS, \n",
    "          batch_size=BATCH_SIZE, \n",
    "          validation_data=(x_test, y_test), \n",
    "          shuffle=True)\n",
    "\n",
    "# Collect results\n",
    "train_loss = model.history.history[\"loss\"]\n",
    "valid_loss = model.history.history[\"val_loss\"]\n",
    "train_acc = model.history.history[\"accuracy\"]\n",
    "valid_acc = model.history.history[\"val_accuracy\"]"
   ]
  },
  {
   "cell_type": "code",
   "execution_count": 8,
   "metadata": {},
   "outputs": [
    {
     "data": {
      "image/png": "[encoded data removed]",
      "text/plain": [
       "<Figure size 432x288 with 1 Axes>"
      ]
     },
     "metadata": {
      "needs_background": "light"
     },
     "output_type": "display_data"
    },
    {
     "data": {
      "image/png": "[encoded data removed]",
      "text/plain": [
       "<Figure size 432x288 with 1 Axes>"
      ]
     },
     "metadata": {
      "needs_background": "light"
     },
     "output_type": "display_data"
    }
   ],
   "source": [
    "import matplotlib.pyplot as plt\n",
    "%matplotlib inline\n",
    "\n",
    "plt.plot(range(len(train_loss)), train_loss, label=\"train loss\")\n",
    "plt.plot(range(len(valid_loss)), valid_loss, label=\"valid loss\")\n",
    "plt.legend()\n",
    "plt.title(\"Loss\")\n",
    "plt.show()\n",
    "\n",
    "plt.plot(range(len(train_acc)), train_acc, label=\"train accuracy\")\n",
    "plt.plot(range(len(valid_acc)), valid_acc, label=\"valid accuracy\")\n",
    "plt.legend()\n",
    "plt.title(\"Accuracy\")\n",
    "plt.show()"
   ]
  },
  {
   "cell_type": "markdown",
   "metadata": {},
   "source": [
    "## Work\n",
    "1. 試比較有 BN 在 Batch_size = 2, 16, 32, 128, 256 下的差異\n",
    "2. 請嘗試將 BN 放在 Activation 之前，並比較訓練結果\n",
    "3. 請於 BN 放在 Input Layer 後，並比較結果"
   ]
  }
 ],
 "metadata": {
  "kernelspec": {
   "display_name": "Python 3",
   "language": "python",
   "name": "python3"
  },
  "language_info": {
   "codemirror_mode": {
    "name": "ipython",
    "version": 3
   },
   "file_extension": ".py",
   "mimetype": "text/x-python",
   "name": "python",
   "nbconvert_exporter": "python",
   "pygments_lexer": "ipython3",
   "version": "3.7.4"
  }
 },
 "nbformat": 4,
 "nbformat_minor": 2
}
