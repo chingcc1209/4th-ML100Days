{
 "cells": [
  {
   "cell_type": "markdown",
   "metadata": {},
   "source": [
    "## Work\n",
    "1. 請比較使用不同層數以及不同 Dropout rate 對訓練的效果\n",
    "2. 將 optimizer 改成使用 Adam 並加上適當的 dropout rate 檢視結果"
   ]
  },
  {
   "cell_type": "code",
   "execution_count": 11,
   "metadata": {},
   "outputs": [],
   "source": [
    "import os\n",
    "import keras\n",
    "import itertools\n",
    "# Disable GPU\n",
    "os.environ[\"CUDA_VISIBLE_DEVICES\"] = \"\""
   ]
  },
  {
   "cell_type": "code",
   "execution_count": 12,
   "metadata": {},
   "outputs": [],
   "source": [
    "train, test = keras.datasets.cifar10.load_data()"
   ]
  },
  {
   "cell_type": "code",
   "execution_count": 13,
   "metadata": {},
   "outputs": [],
   "source": [
    "## 資料前處理\n",
    "def preproc_x(x, flatten=True):\n",
    "    x = x / 255.\n",
    "    if flatten:\n",
    "        x = x.reshape((len(x), -1))\n",
    "    return x\n",
    "\n",
    "def preproc_y(y, num_classes=10):\n",
    "    if y.shape[-1] == 1:\n",
    "        y = keras.utils.to_categorical(y, num_classes)\n",
    "    return y    "
   ]
  },
  {
   "cell_type": "code",
   "execution_count": 14,
   "metadata": {},
   "outputs": [],
   "source": [
    "x_train, y_train = train\n",
    "x_test, y_test = test\n",
    "\n",
    "# Preproc the inputs\n",
    "x_train = preproc_x(x_train)\n",
    "x_test = preproc_x(x_test)\n",
    "\n",
    "# Preprc the outputs\n",
    "y_train = preproc_y(y_train)\n",
    "y_test = preproc_y(y_test)"
   ]
  },
  {
   "cell_type": "code",
   "execution_count": 15,
   "metadata": {},
   "outputs": [],
   "source": [
    "from keras.layers import Dropout\n",
    "\n",
    "def build_mlp(input_shape, output_units=10, num_neurons=[512, 256, 128, 64], drp_ratio=0.2):\n",
    "    \"\"\"Code Here\n",
    "    建立你的神經網路\n",
    "    \"\"\"\n",
    "    input_layer = keras.layers.Input(input_shape)\n",
    "    \n",
    "    for i, n_units in enumerate(num_neurons):\n",
    "        if i == 0:\n",
    "            x = keras.layers.Dense(units=n_units, \n",
    "                                   activation=\"relu\", \n",
    "                                   name=\"hidden_layer\"+str(i+1))(input_layer)\n",
    "            x = Dropout(drp_ratio)(x)\n",
    "        else:\n",
    "            x = keras.layers.Dense(units=n_units, \n",
    "                                   activation=\"relu\", \n",
    "                                   name=\"hidden_layer\"+str(i+1))(x)\n",
    "            x = Dropout(drp_ratio)(x)\n",
    "    \n",
    "    out = keras.layers.Dense(units=output_units, activation=\"softmax\", name=\"output\")(x)\n",
    "    \n",
    "    model = keras.models.Model(inputs=[input_layer], outputs=[out])\n",
    "    return model"
   ]
  },
  {
   "cell_type": "code",
   "execution_count": 16,
   "metadata": {},
   "outputs": [],
   "source": [
    "\"\"\"Code Here\n",
    "設定超參數\n",
    "\"\"\"\n",
    "LEARNING_RATE = 1e-4\n",
    "EPOCHS = 50\n",
    "BATCH_SIZE = 256\n",
    "MOMENTUM = 0.95\n",
    "Dropout_EXP = 0.3"
   ]
  },
  {
   "cell_type": "code",
   "execution_count": 17,
   "metadata": {
    "scrolled": true
   },
   "outputs": [
    {
     "name": "stdout",
     "output_type": "stream",
     "text": [
      "Model: \"model_4\"\n",
      "_________________________________________________________________\n",
      "Layer (type)                 Output Shape              Param #   \n",
      "=================================================================\n",
      "input_4 (InputLayer)         (None, 3072)              0         \n",
      "_________________________________________________________________\n",
      "hidden_layer1 (Dense)        (None, 512)               1573376   \n",
      "_________________________________________________________________\n",
      "dropout_13 (Dropout)         (None, 512)               0         \n",
      "_________________________________________________________________\n",
      "hidden_layer2 (Dense)        (None, 256)               131328    \n",
      "_________________________________________________________________\n",
      "dropout_14 (Dropout)         (None, 256)               0         \n",
      "_________________________________________________________________\n",
      "hidden_layer3 (Dense)        (None, 128)               32896     \n",
      "_________________________________________________________________\n",
      "dropout_15 (Dropout)         (None, 128)               0         \n",
      "_________________________________________________________________\n",
      "hidden_layer4 (Dense)        (None, 64)                8256      \n",
      "_________________________________________________________________\n",
      "dropout_16 (Dropout)         (None, 64)                0         \n",
      "_________________________________________________________________\n",
      "output (Dense)               (None, 10)                650       \n",
      "=================================================================\n",
      "Total params: 1,746,506\n",
      "Trainable params: 1,746,506\n",
      "Non-trainable params: 0\n",
      "_________________________________________________________________\n",
      "Train on 50000 samples, validate on 10000 samples\n",
      "Epoch 1/50\n",
      "50000/50000 [==============================] - 11s 218us/step - loss: 2.2173 - accuracy: 0.1676 - val_loss: 2.0411 - val_accuracy: 0.2615\n",
      "Epoch 2/50\n",
      "50000/50000 [==============================] - 11s 212us/step - loss: 2.0648 - accuracy: 0.2300 - val_loss: 1.9151 - val_accuracy: 0.3115\n",
      "Epoch 3/50\n",
      "50000/50000 [==============================] - 11s 212us/step - loss: 1.9851 - accuracy: 0.2699 - val_loss: 1.8441 - val_accuracy: 0.3432\n",
      "Epoch 4/50\n",
      "50000/50000 [==============================] - 11s 214us/step - loss: 1.9355 - accuracy: 0.2912 - val_loss: 1.8112 - val_accuracy: 0.3661\n",
      "Epoch 5/50\n",
      "50000/50000 [==============================] - 11s 218us/step - loss: 1.8934 - accuracy: 0.3097 - val_loss: 1.7676 - val_accuracy: 0.3726\n",
      "Epoch 6/50\n",
      "50000/50000 [==============================] - 11s 223us/step - loss: 1.8546 - accuracy: 0.3271 - val_loss: 1.7214 - val_accuracy: 0.3952\n",
      "Epoch 7/50\n",
      "50000/50000 [==============================] - 11s 227us/step - loss: 1.8223 - accuracy: 0.3446 - val_loss: 1.6991 - val_accuracy: 0.4060\n",
      "Epoch 8/50\n",
      "50000/50000 [==============================] - 12s 233us/step - loss: 1.7935 - accuracy: 0.3536 - val_loss: 1.6528 - val_accuracy: 0.4197\n",
      "Epoch 9/50\n",
      "50000/50000 [==============================] - 12s 233us/step - loss: 1.7692 - accuracy: 0.3655 - val_loss: 1.6424 - val_accuracy: 0.4225\n",
      "Epoch 10/50\n",
      "50000/50000 [==============================] - 12s 236us/step - loss: 1.7475 - accuracy: 0.3757 - val_loss: 1.6183 - val_accuracy: 0.4393\n",
      "Epoch 11/50\n",
      "50000/50000 [==============================] - 12s 236us/step - loss: 1.7272 - accuracy: 0.3838 - val_loss: 1.5961 - val_accuracy: 0.4421\n",
      "Epoch 12/50\n",
      "50000/50000 [==============================] - 12s 237us/step - loss: 1.7112 - accuracy: 0.3896 - val_loss: 1.5820 - val_accuracy: 0.4499\n",
      "Epoch 13/50\n",
      "50000/50000 [==============================] - 12s 238us/step - loss: 1.6945 - accuracy: 0.3937 - val_loss: 1.5627 - val_accuracy: 0.4503\n",
      "Epoch 14/50\n",
      "50000/50000 [==============================] - 12s 239us/step - loss: 1.6741 - accuracy: 0.4024 - val_loss: 1.5453 - val_accuracy: 0.4562\n",
      "Epoch 15/50\n",
      "50000/50000 [==============================] - 12s 240us/step - loss: 1.6593 - accuracy: 0.4109 - val_loss: 1.5418 - val_accuracy: 0.4564\n",
      "Epoch 16/50\n",
      "50000/50000 [==============================] - 12s 240us/step - loss: 1.6498 - accuracy: 0.4123 - val_loss: 1.5275 - val_accuracy: 0.4644\n",
      "Epoch 17/50\n",
      "50000/50000 [==============================] - 12s 241us/step - loss: 1.6341 - accuracy: 0.4181 - val_loss: 1.5134 - val_accuracy: 0.4667\n",
      "Epoch 18/50\n",
      "50000/50000 [==============================] - 12s 241us/step - loss: 1.6269 - accuracy: 0.4217 - val_loss: 1.5065 - val_accuracy: 0.4677\n",
      "Epoch 19/50\n",
      "50000/50000 [==============================] - 12s 241us/step - loss: 1.6085 - accuracy: 0.4302 - val_loss: 1.4953 - val_accuracy: 0.4722\n",
      "Epoch 20/50\n",
      "50000/50000 [==============================] - 12s 242us/step - loss: 1.5956 - accuracy: 0.4323 - val_loss: 1.4963 - val_accuracy: 0.4682\n",
      "Epoch 21/50\n",
      "50000/50000 [==============================] - 12s 241us/step - loss: 1.5897 - accuracy: 0.4379 - val_loss: 1.4775 - val_accuracy: 0.4752\n",
      "Epoch 22/50\n",
      "50000/50000 [==============================] - 12s 241us/step - loss: 1.5769 - accuracy: 0.4407 - val_loss: 1.4742 - val_accuracy: 0.4814\n",
      "Epoch 23/50\n",
      "50000/50000 [==============================] - 12s 243us/step - loss: 1.5718 - accuracy: 0.4388 - val_loss: 1.4695 - val_accuracy: 0.4790\n",
      "Epoch 24/50\n",
      "50000/50000 [==============================] - 12s 241us/step - loss: 1.5550 - accuracy: 0.4497 - val_loss: 1.4778 - val_accuracy: 0.4769\n",
      "Epoch 25/50\n",
      "50000/50000 [==============================] - 12s 242us/step - loss: 1.5523 - accuracy: 0.4500 - val_loss: 1.4825 - val_accuracy: 0.4801\n",
      "Epoch 26/50\n",
      "50000/50000 [==============================] - 12s 248us/step - loss: 1.5406 - accuracy: 0.4560 - val_loss: 1.4391 - val_accuracy: 0.4910\n",
      "Epoch 27/50\n",
      "50000/50000 [==============================] - 12s 244us/step - loss: 1.5339 - accuracy: 0.4566 - val_loss: 1.4422 - val_accuracy: 0.4911\n",
      "Epoch 28/50\n",
      "50000/50000 [==============================] - 12s 243us/step - loss: 1.5253 - accuracy: 0.4610 - val_loss: 1.4372 - val_accuracy: 0.4969\n",
      "Epoch 29/50\n",
      "50000/50000 [==============================] - 12s 244us/step - loss: 1.5113 - accuracy: 0.4652 - val_loss: 1.4213 - val_accuracy: 0.4981\n",
      "Epoch 30/50\n",
      "50000/50000 [==============================] - 12s 243us/step - loss: 1.5089 - accuracy: 0.4665 - val_loss: 1.4295 - val_accuracy: 0.4947\n",
      "Epoch 31/50\n",
      "50000/50000 [==============================] - 12s 242us/step - loss: 1.4961 - accuracy: 0.4684 - val_loss: 1.4131 - val_accuracy: 0.5007\n",
      "Epoch 32/50\n",
      "50000/50000 [==============================] - 12s 243us/step - loss: 1.4942 - accuracy: 0.4696 - val_loss: 1.4165 - val_accuracy: 0.4956\n",
      "Epoch 33/50\n",
      "50000/50000 [==============================] - 12s 242us/step - loss: 1.4885 - accuracy: 0.4714 - val_loss: 1.4172 - val_accuracy: 0.4996\n",
      "Epoch 34/50\n",
      "50000/50000 [==============================] - 12s 243us/step - loss: 1.4802 - accuracy: 0.4767 - val_loss: 1.3956 - val_accuracy: 0.4996\n",
      "Epoch 35/50\n",
      "50000/50000 [==============================] - 12s 246us/step - loss: 1.4692 - accuracy: 0.4810 - val_loss: 1.4226 - val_accuracy: 0.4950\n",
      "Epoch 36/50\n",
      "50000/50000 [==============================] - 12s 244us/step - loss: 1.4619 - accuracy: 0.4838 - val_loss: 1.4106 - val_accuracy: 0.4927\n",
      "Epoch 37/50\n",
      "50000/50000 [==============================] - 12s 243us/step - loss: 1.4522 - accuracy: 0.4840 - val_loss: 1.3878 - val_accuracy: 0.5073\n",
      "Epoch 38/50\n",
      "50000/50000 [==============================] - 12s 242us/step - loss: 1.4492 - accuracy: 0.4865 - val_loss: 1.4022 - val_accuracy: 0.5046\n",
      "Epoch 39/50\n",
      "50000/50000 [==============================] - 13s 253us/step - loss: 1.4414 - accuracy: 0.4886 - val_loss: 1.3761 - val_accuracy: 0.5137\n",
      "Epoch 40/50\n",
      "50000/50000 [==============================] - 12s 245us/step - loss: 1.4404 - accuracy: 0.4900 - val_loss: 1.3813 - val_accuracy: 0.5047\n",
      "Epoch 41/50\n",
      "50000/50000 [==============================] - 12s 242us/step - loss: 1.4325 - accuracy: 0.4922 - val_loss: 1.3837 - val_accuracy: 0.5084\n",
      "Epoch 42/50\n",
      "50000/50000 [==============================] - 12s 244us/step - loss: 1.4295 - accuracy: 0.4935 - val_loss: 1.3683 - val_accuracy: 0.5104\n",
      "Epoch 43/50\n",
      "50000/50000 [==============================] - 12s 244us/step - loss: 1.4226 - accuracy: 0.4954 - val_loss: 1.3684 - val_accuracy: 0.5122\n",
      "Epoch 44/50\n"
     ]
    },
    {
     "name": "stdout",
     "output_type": "stream",
     "text": [
      "50000/50000 [==============================] - 12s 241us/step - loss: 1.4114 - accuracy: 0.5026 - val_loss: 1.3883 - val_accuracy: 0.5036\n",
      "Epoch 45/50\n",
      "50000/50000 [==============================] - 12s 240us/step - loss: 1.4070 - accuracy: 0.5018 - val_loss: 1.3673 - val_accuracy: 0.5114\n",
      "Epoch 46/50\n",
      "50000/50000 [==============================] - 12s 241us/step - loss: 1.4048 - accuracy: 0.5022 - val_loss: 1.3709 - val_accuracy: 0.5112\n",
      "Epoch 47/50\n",
      "50000/50000 [==============================] - 12s 246us/step - loss: 1.3982 - accuracy: 0.5055 - val_loss: 1.3692 - val_accuracy: 0.5090\n",
      "Epoch 48/50\n",
      "50000/50000 [==============================] - 12s 242us/step - loss: 1.3893 - accuracy: 0.5088 - val_loss: 1.3545 - val_accuracy: 0.5186\n",
      "Epoch 49/50\n",
      "50000/50000 [==============================] - 12s 241us/step - loss: 1.3874 - accuracy: 0.5106 - val_loss: 1.3580 - val_accuracy: 0.5151\n",
      "Epoch 50/50\n",
      "50000/50000 [==============================] - 12s 241us/step - loss: 1.3870 - accuracy: 0.5122 - val_loss: 1.3710 - val_accuracy: 0.5079\n"
     ]
    }
   ],
   "source": [
    "results = {}\n",
    "\"\"\"Code Here\n",
    "撰寫你的訓練流程並將結果用 dictionary 紀錄\n",
    "\"\"\"\n",
    "model = build_mlp(input_shape=x_train.shape[1:], drp_ratio=Dropout_EXP)\n",
    "model.summary()\n",
    "optimizer = keras.optimizers.Adam(lr=LEARNING_RATE)\n",
    "model.compile(loss=\"categorical_crossentropy\", metrics=[\"accuracy\"], optimizer=optimizer)\n",
    "\n",
    "model.fit(x_train, y_train, \n",
    "          epochs=EPOCHS, \n",
    "          batch_size=BATCH_SIZE, \n",
    "          validation_data=(x_test, y_test), \n",
    "          shuffle=True)\n",
    "\n",
    "# Collect results\n",
    "train_loss = model.history.history[\"loss\"]\n",
    "valid_loss = model.history.history[\"val_loss\"]\n",
    "train_acc = model.history.history[\"accuracy\"]\n",
    "valid_acc = model.history.history[\"val_accuracy\"]"
   ]
  },
  {
   "cell_type": "code",
   "execution_count": 18,
   "metadata": {},
   "outputs": [
    {
     "data": {
      "image/png": "[encoded data removed]",
      "text/plain": [
       "<Figure size 432x288 with 1 Axes>"
      ]
     },
     "metadata": {
      "needs_background": "light"
     },
     "output_type": "display_data"
    },
    {
     "data": {
      "image/png": "[encoded data removed]",
      "text/plain": [
       "<Figure size 432x288 with 1 Axes>"
      ]
     },
     "metadata": {
      "needs_background": "light"
     },
     "output_type": "display_data"
    }
   ],
   "source": [
    "import matplotlib.pyplot as plt\n",
    "%matplotlib inline\n",
    "\"\"\"Code Here\n",
    "將結果繪出\n",
    "\"\"\"\n",
    "plt.plot(range(len(train_loss)), train_loss, label=\"train loss\")\n",
    "plt.plot(range(len(valid_loss)), valid_loss, label=\"valid loss\")\n",
    "plt.legend()\n",
    "plt.title(\"Loss\")\n",
    "plt.show()\n",
    "\n",
    "plt.plot(range(len(train_acc)), train_acc, label=\"train accuracy\")\n",
    "plt.plot(range(len(valid_acc)), valid_acc, label=\"valid accuracy\")\n",
    "plt.legend()\n",
    "plt.title(\"Accuracy\")\n",
    "plt.show()"
   ]
  },
  {
   "cell_type": "code",
   "execution_count": null,
   "metadata": {},
   "outputs": [],
   "source": []
  }
 ],
 "metadata": {
  "kernelspec": {
   "display_name": "Python 3",
   "language": "python",
   "name": "python3"
  }
 },
 "nbformat": 4,
 "nbformat_minor": 2
}
