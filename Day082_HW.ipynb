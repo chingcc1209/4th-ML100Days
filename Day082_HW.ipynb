{
 "cells": [
  {
   "cell_type": "markdown",
   "metadata": {},
   "source": [
    "## Work\n",
    "1. 請比較使用不同層數以及不同 Dropout rate 對訓練的效果\n",
    "2. 將 optimizer 改成使用 Adam 並加上適當的 dropout rate 檢視結果"
   ]
  },
  {
   "cell_type": "code",
   "execution_count": 1,
   "metadata": {},
   "outputs": [
    {
     "name": "stderr",
     "output_type": "stream",
     "text": [
      "Using TensorFlow backend.\n"
     ]
    }
   ],
   "source": [
    "import os\n",
    "import keras\n",
    "import itertools\n",
    "# Disable GPU\n",
    "os.environ[\"CUDA_VISIBLE_DEVICES\"] = \"\""
   ]
  },
  {
   "cell_type": "code",
   "execution_count": 2,
   "metadata": {},
   "outputs": [],
   "source": [
    "train, test = keras.datasets.cifar10.load_data()"
   ]
  },
  {
   "cell_type": "code",
   "execution_count": 3,
   "metadata": {},
   "outputs": [],
   "source": [
    "## 資料前處理\n",
    "def preproc_x(x, flatten=True):\n",
    "    x = x / 255.\n",
    "    if flatten:\n",
    "        x = x.reshape((len(x), -1))\n",
    "    return x\n",
    "\n",
    "def preproc_y(y, num_classes=10):\n",
    "    if y.shape[-1] == 1:\n",
    "        y = keras.utils.to_categorical(y, num_classes)\n",
    "    return y    "
   ]
  },
  {
   "cell_type": "code",
   "execution_count": 4,
   "metadata": {},
   "outputs": [],
   "source": [
    "x_train, y_train = train\n",
    "x_test, y_test = test\n",
    "\n",
    "# Preproc the inputs\n",
    "x_train = preproc_x(x_train)\n",
    "x_test = preproc_x(x_test)\n",
    "\n",
    "# Preprc the outputs\n",
    "y_train = preproc_y(y_train)\n",
    "y_test = preproc_y(y_test)"
   ]
  },
  {
   "cell_type": "code",
   "execution_count": 5,
   "metadata": {},
   "outputs": [],
   "source": [
    "from keras.layers import Dropout\n",
    "\n",
    "def build_mlp(input_shape, output_units=10, num_neurons=[512, 256, 128, 64], drp_ratio=0.2):\n",
    "    \"\"\"Code Here\n",
    "    建立你的神經網路\n",
    "    \"\"\"\n",
    "    input_layer = keras.layers.Input(input_shape)\n",
    "    \n",
    "    for i, n_units in enumerate(num_neurons):\n",
    "        if i == 0:\n",
    "            x = keras.layers.Dense(units=n_units, \n",
    "                                   activation=\"relu\", \n",
    "                                   name=\"hidden_layer\"+str(i+1))(input_layer)\n",
    "            x = Dropout(drp_ratio)(x)\n",
    "        else:\n",
    "            x = keras.layers.Dense(units=n_units, \n",
    "                                   activation=\"relu\", \n",
    "                                   name=\"hidden_layer\"+str(i+1))(x)\n",
    "            x = Dropout(drp_ratio)(x)\n",
    "    \n",
    "    out = keras.layers.Dense(units=output_units, activation=\"softmax\", name=\"output\")(x)\n",
    "    \n",
    "    model = keras.models.Model(inputs=[input_layer], outputs=[out])\n",
    "    return model"
   ]
  },
  {
   "cell_type": "code",
   "execution_count": 6,
   "metadata": {},
   "outputs": [],
   "source": [
    "\"\"\"Code Here\n",
    "設定超參數\n",
    "\"\"\"\n",
    "LEARNING_RATE = 1e-3\n",
    "EPOCHS = 50\n",
    "BATCH_SIZE = 256\n",
    "MOMENTUM = 0.95\n",
    "Dropout_EXP = 0.5"
   ]
  },
  {
   "cell_type": "code",
   "execution_count": 9,
   "metadata": {
    "scrolled": true
   },
   "outputs": [
    {
     "name": "stdout",
     "output_type": "stream",
     "text": [
      "Model: \"model_3\"\n",
      "_________________________________________________________________\n",
      "Layer (type)                 Output Shape              Param #   \n",
      "=================================================================\n",
      "input_3 (InputLayer)         (None, 3072)              0         \n",
      "_________________________________________________________________\n",
      "hidden_layer1 (Dense)        (None, 512)               1573376   \n",
      "_________________________________________________________________\n",
      "dropout_9 (Dropout)          (None, 512)               0         \n",
      "_________________________________________________________________\n",
      "hidden_layer2 (Dense)        (None, 256)               131328    \n",
      "_________________________________________________________________\n",
      "dropout_10 (Dropout)         (None, 256)               0         \n",
      "_________________________________________________________________\n",
      "hidden_layer3 (Dense)        (None, 128)               32896     \n",
      "_________________________________________________________________\n",
      "dropout_11 (Dropout)         (None, 128)               0         \n",
      "_________________________________________________________________\n",
      "hidden_layer4 (Dense)        (None, 64)                8256      \n",
      "_________________________________________________________________\n",
      "dropout_12 (Dropout)         (None, 64)                0         \n",
      "_________________________________________________________________\n",
      "output (Dense)               (None, 10)                650       \n",
      "=================================================================\n",
      "Total params: 1,746,506\n",
      "Trainable params: 1,746,506\n",
      "Non-trainable params: 0\n",
      "_________________________________________________________________\n",
      "Train on 50000 samples, validate on 10000 samples\n",
      "Epoch 1/50\n",
      "50000/50000 [==============================] - 12s 237us/step - loss: 2.3115 - accuracy: 0.1234 - val_loss: 2.2335 - val_accuracy: 0.1599\n",
      "Epoch 2/50\n",
      "50000/50000 [==============================] - 11s 222us/step - loss: 2.2316 - accuracy: 0.1494 - val_loss: 2.2228 - val_accuracy: 0.1723\n",
      "Epoch 3/50\n",
      "50000/50000 [==============================] - 11s 223us/step - loss: 2.1994 - accuracy: 0.1593 - val_loss: 2.1982 - val_accuracy: 0.1694\n",
      "Epoch 4/50\n",
      "50000/50000 [==============================] - 11s 223us/step - loss: 2.1820 - accuracy: 0.1599 - val_loss: 2.1548 - val_accuracy: 0.1820\n",
      "Epoch 5/50\n",
      "50000/50000 [==============================] - 11s 225us/step - loss: 2.1723 - accuracy: 0.1629 - val_loss: 2.1419 - val_accuracy: 0.2051\n",
      "Epoch 6/50\n",
      "50000/50000 [==============================] - 12s 231us/step - loss: 2.1651 - accuracy: 0.1658 - val_loss: 2.1607 - val_accuracy: 0.1819\n",
      "Epoch 7/50\n",
      "50000/50000 [==============================] - 12s 237us/step - loss: 2.1514 - accuracy: 0.1709 - val_loss: 2.1467 - val_accuracy: 0.1853\n",
      "Epoch 8/50\n",
      "50000/50000 [==============================] - 12s 241us/step - loss: 2.1453 - accuracy: 0.1735 - val_loss: 2.1770 - val_accuracy: 0.1704\n",
      "Epoch 9/50\n",
      "50000/50000 [==============================] - 12s 247us/step - loss: 2.1458 - accuracy: 0.1765 - val_loss: 2.1426 - val_accuracy: 0.1803\n",
      "Epoch 10/50\n",
      "50000/50000 [==============================] - 12s 242us/step - loss: 2.1382 - accuracy: 0.1740 - val_loss: 2.1353 - val_accuracy: 0.1690\n",
      "Epoch 11/50\n",
      "50000/50000 [==============================] - 13s 253us/step - loss: 2.1337 - accuracy: 0.1767 - val_loss: 2.1137 - val_accuracy: 0.2035\n",
      "Epoch 12/50\n",
      "50000/50000 [==============================] - 13s 252us/step - loss: 2.1359 - accuracy: 0.1754 - val_loss: 2.1268 - val_accuracy: 0.1837\n",
      "Epoch 13/50\n",
      "50000/50000 [==============================] - 13s 260us/step - loss: 2.1332 - accuracy: 0.1758 - val_loss: 2.1071 - val_accuracy: 0.1929\n",
      "Epoch 14/50\n",
      "50000/50000 [==============================] - 13s 260us/step - loss: 2.1288 - accuracy: 0.1805 - val_loss: 2.1152 - val_accuracy: 0.1994\n",
      "Epoch 15/50\n",
      "50000/50000 [==============================] - 13s 269us/step - loss: 2.1353 - accuracy: 0.1770 - val_loss: 2.1151 - val_accuracy: 0.2020\n",
      "Epoch 16/50\n",
      "50000/50000 [==============================] - 13s 268us/step - loss: 2.1290 - accuracy: 0.1800 - val_loss: 2.1187 - val_accuracy: 0.1938\n",
      "Epoch 17/50\n",
      "50000/50000 [==============================] - 13s 262us/step - loss: 2.1321 - accuracy: 0.1782 - val_loss: 2.1094 - val_accuracy: 0.2027\n",
      "Epoch 18/50\n",
      "50000/50000 [==============================] - 13s 265us/step - loss: 2.1301 - accuracy: 0.1776 - val_loss: 2.0764 - val_accuracy: 0.2089\n",
      "Epoch 19/50\n",
      "50000/50000 [==============================] - 13s 261us/step - loss: 2.1227 - accuracy: 0.1797 - val_loss: 2.1079 - val_accuracy: 0.1897\n",
      "Epoch 20/50\n",
      "50000/50000 [==============================] - 13s 269us/step - loss: 2.1294 - accuracy: 0.1805 - val_loss: 2.1091 - val_accuracy: 0.1890\n",
      "Epoch 21/50\n",
      "50000/50000 [==============================] - 13s 265us/step - loss: 2.1240 - accuracy: 0.1796 - val_loss: 2.1056 - val_accuracy: 0.1901\n",
      "Epoch 22/50\n",
      "50000/50000 [==============================] - 14s 271us/step - loss: 2.1190 - accuracy: 0.1823 - val_loss: 2.0785 - val_accuracy: 0.2051\n",
      "Epoch 23/50\n",
      "50000/50000 [==============================] - 14s 270us/step - loss: 2.1257 - accuracy: 0.1805 - val_loss: 2.0781 - val_accuracy: 0.2013\n",
      "Epoch 24/50\n",
      "50000/50000 [==============================] - 14s 272us/step - loss: 2.1303 - accuracy: 0.1801 - val_loss: 2.0797 - val_accuracy: 0.2094\n",
      "Epoch 25/50\n",
      "50000/50000 [==============================] - 14s 271us/step - loss: 2.1311 - accuracy: 0.1801 - val_loss: 2.0833 - val_accuracy: 0.2026\n",
      "Epoch 26/50\n",
      "50000/50000 [==============================] - 14s 273us/step - loss: 2.1316 - accuracy: 0.1774 - val_loss: 2.1085 - val_accuracy: 0.1902\n",
      "Epoch 27/50\n",
      "50000/50000 [==============================] - 14s 271us/step - loss: 2.1304 - accuracy: 0.1784 - val_loss: 2.1148 - val_accuracy: 0.1969\n",
      "Epoch 28/50\n",
      "50000/50000 [==============================] - 14s 271us/step - loss: 2.1184 - accuracy: 0.1841 - val_loss: 2.0835 - val_accuracy: 0.1948\n",
      "Epoch 29/50\n",
      "50000/50000 [==============================] - 13s 270us/step - loss: 2.1185 - accuracy: 0.1861 - val_loss: 2.1081 - val_accuracy: 0.1856\n",
      "Epoch 30/50\n",
      "50000/50000 [==============================] - 13s 269us/step - loss: 2.1144 - accuracy: 0.1813 - val_loss: 2.0776 - val_accuracy: 0.2067\n",
      "Epoch 31/50\n",
      "50000/50000 [==============================] - 14s 271us/step - loss: 2.1186 - accuracy: 0.1818 - val_loss: 2.0911 - val_accuracy: 0.1833\n",
      "Epoch 32/50\n",
      "50000/50000 [==============================] - 14s 271us/step - loss: 2.1215 - accuracy: 0.1792 - val_loss: 2.0753 - val_accuracy: 0.2092\n",
      "Epoch 33/50\n",
      "50000/50000 [==============================] - 14s 275us/step - loss: 2.1203 - accuracy: 0.1809 - val_loss: 2.0737 - val_accuracy: 0.2092\n",
      "Epoch 34/50\n",
      "50000/50000 [==============================] - 14s 274us/step - loss: 2.1155 - accuracy: 0.1820 - val_loss: 2.0833 - val_accuracy: 0.2021\n",
      "Epoch 35/50\n",
      "50000/50000 [==============================] - 14s 272us/step - loss: 2.1246 - accuracy: 0.1797 - val_loss: 2.1389 - val_accuracy: 0.1715\n",
      "Epoch 36/50\n",
      "50000/50000 [==============================] - 14s 272us/step - loss: 2.1157 - accuracy: 0.1847 - val_loss: 2.0623 - val_accuracy: 0.2188\n",
      "Epoch 37/50\n",
      "50000/50000 [==============================] - 14s 271us/step - loss: 2.1157 - accuracy: 0.1845 - val_loss: 2.0932 - val_accuracy: 0.1929\n",
      "Epoch 38/50\n",
      "50000/50000 [==============================] - 14s 272us/step - loss: 2.1155 - accuracy: 0.1824 - val_loss: 2.0828 - val_accuracy: 0.1997\n",
      "Epoch 39/50\n",
      "50000/50000 [==============================] - 14s 272us/step - loss: 2.1152 - accuracy: 0.1834 - val_loss: 2.0642 - val_accuracy: 0.2017\n",
      "Epoch 40/50\n",
      "50000/50000 [==============================] - 14s 274us/step - loss: 2.1131 - accuracy: 0.1845 - val_loss: 2.0619 - val_accuracy: 0.2083\n",
      "Epoch 41/50\n",
      "50000/50000 [==============================] - 14s 275us/step - loss: 2.1251 - accuracy: 0.1788 - val_loss: 2.0677 - val_accuracy: 0.2171\n",
      "Epoch 42/50\n",
      "50000/50000 [==============================] - 14s 274us/step - loss: 2.1279 - accuracy: 0.1795 - val_loss: 2.0838 - val_accuracy: 0.2127\n",
      "Epoch 43/50\n",
      "50000/50000 [==============================] - 14s 272us/step - loss: 2.1173 - accuracy: 0.1840 - val_loss: 2.0919 - val_accuracy: 0.1943\n",
      "Epoch 44/50\n"
     ]
    },
    {
     "name": "stdout",
     "output_type": "stream",
     "text": [
      "50000/50000 [==============================] - 13s 258us/step - loss: 2.1143 - accuracy: 0.1823 - val_loss: 2.0763 - val_accuracy: 0.1917\n",
      "Epoch 45/50\n",
      "50000/50000 [==============================] - 13s 259us/step - loss: 2.1203 - accuracy: 0.1842 - val_loss: 2.0941 - val_accuracy: 0.1958\n",
      "Epoch 46/50\n",
      "50000/50000 [==============================] - 13s 261us/step - loss: 2.1082 - accuracy: 0.1880 - val_loss: 2.0677 - val_accuracy: 0.1945\n",
      "Epoch 47/50\n",
      "50000/50000 [==============================] - 13s 266us/step - loss: 2.1119 - accuracy: 0.1829 - val_loss: 2.0629 - val_accuracy: 0.2101\n",
      "Epoch 48/50\n",
      "50000/50000 [==============================] - 13s 268us/step - loss: 2.1091 - accuracy: 0.1867 - val_loss: 2.0762 - val_accuracy: 0.2189\n",
      "Epoch 49/50\n",
      "50000/50000 [==============================] - 14s 272us/step - loss: 2.1109 - accuracy: 0.1840 - val_loss: 2.0796 - val_accuracy: 0.2089\n",
      "Epoch 50/50\n",
      "50000/50000 [==============================] - 14s 273us/step - loss: 2.1168 - accuracy: 0.1803 - val_loss: 2.0598 - val_accuracy: 0.2114\n"
     ]
    }
   ],
   "source": [
    "results = {}\n",
    "\"\"\"Code Here\n",
    "撰寫你的訓練流程並將結果用 dictionary 紀錄\n",
    "\"\"\"\n",
    "model = build_mlp(input_shape=x_train.shape[1:], drp_ratio=Dropout_EXP)\n",
    "model.summary()\n",
    "optimizer = keras.optimizers.Adam(lr=LEARNING_RATE)\n",
    "model.compile(loss=\"categorical_crossentropy\", metrics=[\"accuracy\"], optimizer=optimizer)\n",
    "\n",
    "model.fit(x_train, y_train, \n",
    "          epochs=EPOCHS, \n",
    "          batch_size=BATCH_SIZE, \n",
    "          validation_data=(x_test, y_test), \n",
    "          shuffle=True)\n",
    "\n",
    "# Collect results\n",
    "train_loss = model.history.history[\"loss\"]\n",
    "valid_loss = model.history.history[\"val_loss\"]\n",
    "train_acc = model.history.history[\"accuracy\"]\n",
    "valid_acc = model.history.history[\"val_accuracy\"]"
   ]
  },
  {
   "cell_type": "code",
   "execution_count": 10,
   "metadata": {},
   "outputs": [
    {
     "data": {
      "image/png": "[encoded data removed]",
      "text/plain": [
       "<Figure size 432x288 with 1 Axes>"
      ]
     },
     "metadata": {
      "needs_background": "light"
     },
     "output_type": "display_data"
    },
    {
     "data": {
      "image/png": "[encoded data removed]",
      "text/plain": [
       "<Figure size 432x288 with 1 Axes>"
      ]
     },
     "metadata": {
      "needs_background": "light"
     },
     "output_type": "display_data"
    }
   ],
   "source": [
    "import matplotlib.pyplot as plt\n",
    "%matplotlib inline\n",
    "\"\"\"Code Here\n",
    "將結果繪出\n",
    "\"\"\"\n",
    "plt.plot(range(len(train_loss)), train_loss, label=\"train loss\")\n",
    "plt.plot(range(len(valid_loss)), valid_loss, label=\"valid loss\")\n",
    "plt.legend()\n",
    "plt.title(\"Loss\")\n",
    "plt.show()\n",
    "\n",
    "plt.plot(range(len(train_acc)), train_acc, label=\"train accuracy\")\n",
    "plt.plot(range(len(valid_acc)), valid_acc, label=\"valid accuracy\")\n",
    "plt.legend()\n",
    "plt.title(\"Accuracy\")\n",
    "plt.show()"
   ]
  },
  {
   "cell_type": "code",
   "execution_count": null,
   "metadata": {},
   "outputs": [],
   "source": []
  }
 ],
 "metadata": {
  "kernelspec": {
   "display_name": "Python 3",
   "language": "python",
   "name": "python3"
  }
 },
 "nbformat": 4,
 "nbformat_minor": 2
}
