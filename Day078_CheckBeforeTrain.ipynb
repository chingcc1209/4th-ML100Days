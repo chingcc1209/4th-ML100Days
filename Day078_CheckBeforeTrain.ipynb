{
 "cells": [
  {
   "cell_type": "markdown",
   "metadata": {},
   "source": [
    "## 範例重點\n",
    "### 學習在模型開始前檢查各個環節\n",
    "1. 是否有 GPU 資源\n",
    "2. 將前處理轉為函式，統一處理訓練、驗證與測試集\n",
    "3. 將超參數變數化，易於重複使用函式、模型等"
   ]
  },
  {
   "cell_type": "code",
   "execution_count": 1,
   "metadata": {},
   "outputs": [
    {
     "name": "stdout",
     "output_type": "stream",
     "text": [
      "Sun Jul 05 17:35:11 2020       \n",
      "+-----------------------------------------------------------------------------+\n",
      "| NVIDIA-SMI 390.77                 Driver Version: 390.77                    |\n",
      "|-------------------------------+----------------------+----------------------+\n",
      "| GPU  Name            TCC/WDDM | Bus-Id        Disp.A | Volatile Uncorr. ECC |\n",
      "| Fan  Temp  Perf  Pwr:Usage/Cap|         Memory-Usage | GPU-Util  Compute M. |\n",
      "|===============================+======================+======================|\n",
      "|   0  GeForce GTX 105... WDDM  | 00000000:01:00.0  On |                  N/A |\n",
      "| 29%   45C    P8    N/A /  75W |   1691MiB /  4096MiB |      0%      Default |\n",
      "+-------------------------------+----------------------+----------------------+\n",
      "                                                                               \n",
      "+-----------------------------------------------------------------------------+\n",
      "| Processes:                                                       GPU Memory |\n",
      "|  GPU       PID   Type   Process name                             Usage      |\n",
      "|=============================================================================|\n",
      "|    0      2532    C+G   ...16211.0_x64__8wekyb3d8bbwe\\Video.UI.exe N/A      |\n",
      "|    0      3004    C+G   ...6.102.0_x64__kzf8qxf38zg5c\\SkypeApp.exe N/A      |\n",
      "|    0      5760    C+G   C:\\Windows\\explorer.exe                    N/A      |\n",
      "|    0      6788    C+G   ...oftEdge_8wekyb3d8bbwe\\MicrosoftEdge.exe N/A      |\n",
      "|    0      8328    C+G   ...x64__8wekyb3d8bbwe\\Microsoft.Photos.exe N/A      |\n",
      "|    0      8956    C+G   ...osoft.LockApp_cw5n1h2txyewy\\LockApp.exe N/A      |\n",
      "|    0      9876    C+G   ...6)\\Google\\Chrome\\Application\\chrome.exe N/A      |\n",
      "|    0     10100    C+G   Insufficient Permissions                   N/A      |\n",
      "|    0     10744    C+G   ...hell.Experiences.TextInput.InputApp.exe N/A      |\n",
      "|    0     11252    C+G   ...dows.Cortana_cw5n1h2txyewy\\SearchUI.exe N/A      |\n",
      "|    0     11268    C+G   ...5n1h2txyewy\\StartMenuExperienceHost.exe N/A      |\n",
      "|    0     11392    C+G   ...t_cw5n1h2txyewy\\ShellExperienceHost.exe N/A      |\n",
      "|    0     12608    C+G   ....110.0_x64__8wekyb3d8bbwe\\YourPhone.exe N/A      |\n",
      "+-----------------------------------------------------------------------------+\n"
     ]
    }
   ],
   "source": [
    "## 確認硬體資源 (如果你是在 Linux, 若是在 Windows, 請參考 https://blog.csdn.net/idwtwt/article/details/78017565)\n",
    "!nvidia-smi"
   ]
  },
  {
   "cell_type": "code",
   "execution_count": 3,
   "metadata": {},
   "outputs": [],
   "source": [
    "import os\n",
    "import keras\n",
    "\n",
    "# 本範例不需使用 GPU, 將 GPU 設定為 \"無\"\n",
    "os.environ[\"CUDA_VISIBLE_DEVICES\"] = \"\""
   ]
  },
  {
   "cell_type": "code",
   "execution_count": 4,
   "metadata": {},
   "outputs": [
    {
     "name": "stdout",
     "output_type": "stream",
     "text": [
      "Downloading data from https://www.cs.toronto.edu/~kriz/cifar-10-python.tar.gz\n",
      "170500096/170498071 [==============================] - 308s 2us/step\n"
     ]
    }
   ],
   "source": [
    "# 從 Keras 的內建功能中，取得 train 與 test 資料集\n",
    "train, test = keras.datasets.cifar10.load_data()"
   ]
  },
  {
   "cell_type": "code",
   "execution_count": 5,
   "metadata": {},
   "outputs": [],
   "source": [
    "## 資料前處理\n",
    "def preproc_x(x, flatten=True):\n",
    "    x = x / 255.\n",
    "    if flatten:\n",
    "        x = x.reshape((len(x), -1))\n",
    "    return x\n",
    "\n",
    "def preproc_y(y, num_classes=10):\n",
    "    if y.shape[-1] == 1:\n",
    "        y = keras.utils.to_categorical(y, num_classes)\n",
    "    return y    "
   ]
  },
  {
   "cell_type": "code",
   "execution_count": 6,
   "metadata": {},
   "outputs": [],
   "source": [
    "x_train, y_train = train\n",
    "x_test, y_test = test\n",
    "\n",
    "# 資料前處理 - X 標準化\n",
    "x_train = preproc_x(x_train)\n",
    "x_test = preproc_x(x_test)\n",
    "\n",
    "# 資料前處理 -Y 轉成 onehot\n",
    "y_train = preproc_y(y_train)\n",
    "y_test = preproc_y(y_test)"
   ]
  },
  {
   "cell_type": "code",
   "execution_count": 7,
   "metadata": {},
   "outputs": [],
   "source": [
    "def build_mlp(input_shape, output_units=10, num_neurons=[512, 256, 128]):\n",
    "    input_layer = keras.layers.Input(input_shape)\n",
    "    \n",
    "    for i, n_units in enumerate(num_neurons):\n",
    "        if i == 0:\n",
    "            x = keras.layers.Dense(units=n_units, activation=\"relu\", name=\"hidden_layer\"+str(i+1))(input_layer)\n",
    "        else:\n",
    "            x = keras.layers.Dense(units=n_units, activation=\"relu\", name=\"hidden_layer\"+str(i+1))(x)\n",
    "    \n",
    "    out = keras.layers.Dense(units=output_units, activation=\"softmax\", name=\"output\")(x)\n",
    "    \n",
    "    model = keras.models.Model(inputs=[input_layer], outputs=[out])\n",
    "    return model"
   ]
  },
  {
   "cell_type": "code",
   "execution_count": 8,
   "metadata": {},
   "outputs": [
    {
     "name": "stdout",
     "output_type": "stream",
     "text": [
      "Model: \"model\"\n",
      "_________________________________________________________________\n",
      "Layer (type)                 Output Shape              Param #   \n",
      "=================================================================\n",
      "input_1 (InputLayer)         [(None, 3072)]            0         \n",
      "_________________________________________________________________\n",
      "hidden_layer1 (Dense)        (None, 512)               1573376   \n",
      "_________________________________________________________________\n",
      "hidden_layer2 (Dense)        (None, 256)               131328    \n",
      "_________________________________________________________________\n",
      "hidden_layer3 (Dense)        (None, 128)               32896     \n",
      "_________________________________________________________________\n",
      "output (Dense)               (None, 10)                1290      \n",
      "=================================================================\n",
      "Total params: 1,738,890\n",
      "Trainable params: 1,738,890\n",
      "Non-trainable params: 0\n",
      "_________________________________________________________________\n"
     ]
    }
   ],
   "source": [
    "model = build_mlp(input_shape=x_train.shape[1:])\n",
    "model.summary()"
   ]
  },
  {
   "cell_type": "code",
   "execution_count": 9,
   "metadata": {},
   "outputs": [],
   "source": [
    "## 超參數設定\n",
    "LEARNING_RATE = 0.001\n",
    "EPOCHS = 100\n",
    "BATCH_SIZE = 256"
   ]
  },
  {
   "cell_type": "code",
   "execution_count": 10,
   "metadata": {},
   "outputs": [],
   "source": [
    "optimizer = keras.optimizers.Adam(lr=LEARNING_RATE)\n",
    "model.compile(loss=\"categorical_crossentropy\", metrics=[\"accuracy\"], optimizer=optimizer)"
   ]
  },
  {
   "cell_type": "code",
   "execution_count": 11,
   "metadata": {},
   "outputs": [
    {
     "name": "stdout",
     "output_type": "stream",
     "text": [
      "Epoch 1/100\n",
      "196/196 [==============================] - 5s 24ms/step - loss: 1.9314 - accuracy: 0.3078 - val_loss: 1.7591 - val_accuracy: 0.3688\n",
      "Epoch 2/100\n",
      "196/196 [==============================] - 4s 19ms/step - loss: 1.6996 - accuracy: 0.3940 - val_loss: 1.6417 - val_accuracy: 0.4074\n",
      "Epoch 3/100\n",
      "196/196 [==============================] - 4s 19ms/step - loss: 1.6244 - accuracy: 0.4201 - val_loss: 1.6217 - val_accuracy: 0.4325\n",
      "Epoch 4/100\n",
      "196/196 [==============================] - 4s 18ms/step - loss: 1.5586 - accuracy: 0.4436 - val_loss: 1.5487 - val_accuracy: 0.4519\n",
      "Epoch 5/100\n",
      "196/196 [==============================] - 4s 19ms/step - loss: 1.5163 - accuracy: 0.4594 - val_loss: 1.5142 - val_accuracy: 0.4543\n",
      "Epoch 6/100\n",
      "196/196 [==============================] - 4s 19ms/step - loss: 1.4732 - accuracy: 0.4745 - val_loss: 1.5140 - val_accuracy: 0.4589\n",
      "Epoch 7/100\n",
      "196/196 [==============================] - 4s 20ms/step - loss: 1.4396 - accuracy: 0.4892 - val_loss: 1.4712 - val_accuracy: 0.4794\n",
      "Epoch 8/100\n",
      "196/196 [==============================] - 4s 19ms/step - loss: 1.4159 - accuracy: 0.4956 - val_loss: 1.4672 - val_accuracy: 0.4738\n",
      "Epoch 9/100\n",
      "196/196 [==============================] - 4s 19ms/step - loss: 1.3793 - accuracy: 0.5088 - val_loss: 1.4693 - val_accuracy: 0.4862\n",
      "Epoch 10/100\n",
      "196/196 [==============================] - 4s 21ms/step - loss: 1.3552 - accuracy: 0.5181 - val_loss: 1.4177 - val_accuracy: 0.4978\n",
      "Epoch 11/100\n",
      "196/196 [==============================] - 4s 20ms/step - loss: 1.3322 - accuracy: 0.5237 - val_loss: 1.4187 - val_accuracy: 0.4942\n",
      "Epoch 12/100\n",
      "196/196 [==============================] - 4s 19ms/step - loss: 1.3020 - accuracy: 0.5382 - val_loss: 1.3912 - val_accuracy: 0.5078\n",
      "Epoch 13/100\n",
      "196/196 [==============================] - 4s 19ms/step - loss: 1.2720 - accuracy: 0.5478 - val_loss: 1.4124 - val_accuracy: 0.5008\n",
      "Epoch 14/100\n",
      "196/196 [==============================] - 4s 19ms/step - loss: 1.2528 - accuracy: 0.5542 - val_loss: 1.3865 - val_accuracy: 0.5134\n",
      "Epoch 15/100\n",
      "196/196 [==============================] - 4s 20ms/step - loss: 1.2373 - accuracy: 0.5581 - val_loss: 1.3812 - val_accuracy: 0.5149\n",
      "Epoch 16/100\n",
      "196/196 [==============================] - 4s 22ms/step - loss: 1.2047 - accuracy: 0.5713 - val_loss: 1.3612 - val_accuracy: 0.5207\n",
      "Epoch 17/100\n",
      "196/196 [==============================] - 4s 19ms/step - loss: 1.1978 - accuracy: 0.5750 - val_loss: 1.3948 - val_accuracy: 0.5075\n",
      "Epoch 18/100\n",
      "196/196 [==============================] - 4s 21ms/step - loss: 1.1726 - accuracy: 0.5838 - val_loss: 1.3660 - val_accuracy: 0.5202\n",
      "Epoch 19/100\n",
      "196/196 [==============================] - 4s 20ms/step - loss: 1.1458 - accuracy: 0.5890 - val_loss: 1.3633 - val_accuracy: 0.5211\n",
      "Epoch 20/100\n",
      "196/196 [==============================] - 4s 19ms/step - loss: 1.1314 - accuracy: 0.5943 - val_loss: 1.4033 - val_accuracy: 0.5160\n",
      "Epoch 21/100\n",
      "196/196 [==============================] - 4s 19ms/step - loss: 1.1077 - accuracy: 0.6045 - val_loss: 1.3544 - val_accuracy: 0.5261\n",
      "Epoch 22/100\n",
      "196/196 [==============================] - 4s 19ms/step - loss: 1.0892 - accuracy: 0.6107 - val_loss: 1.3696 - val_accuracy: 0.5251\n",
      "Epoch 23/100\n",
      "196/196 [==============================] - 4s 20ms/step - loss: 1.0717 - accuracy: 0.6187 - val_loss: 1.3828 - val_accuracy: 0.5221\n",
      "Epoch 24/100\n",
      "196/196 [==============================] - 4s 19ms/step - loss: 1.0568 - accuracy: 0.6236 - val_loss: 1.3784 - val_accuracy: 0.5266\n",
      "Epoch 25/100\n",
      "196/196 [==============================] - 4s 19ms/step - loss: 1.0372 - accuracy: 0.6284 - val_loss: 1.4090 - val_accuracy: 0.5219\n",
      "Epoch 26/100\n",
      "196/196 [==============================] - 4s 20ms/step - loss: 1.0147 - accuracy: 0.6369 - val_loss: 1.3635 - val_accuracy: 0.5295\n",
      "Epoch 27/100\n",
      "196/196 [==============================] - 4s 19ms/step - loss: 0.9901 - accuracy: 0.6458 - val_loss: 1.4249 - val_accuracy: 0.5223\n",
      "Epoch 28/100\n",
      "196/196 [==============================] - 4s 21ms/step - loss: 0.9812 - accuracy: 0.6492 - val_loss: 1.4505 - val_accuracy: 0.5098\n",
      "Epoch 29/100\n",
      "196/196 [==============================] - 4s 19ms/step - loss: 0.9657 - accuracy: 0.6556 - val_loss: 1.3997 - val_accuracy: 0.5287\n",
      "Epoch 30/100\n",
      "196/196 [==============================] - 4s 19ms/step - loss: 0.9520 - accuracy: 0.6595 - val_loss: 1.4459 - val_accuracy: 0.5279\n",
      "Epoch 31/100\n",
      "196/196 [==============================] - 4s 21ms/step - loss: 0.9332 - accuracy: 0.6664 - val_loss: 1.4387 - val_accuracy: 0.5219\n",
      "Epoch 32/100\n",
      "196/196 [==============================] - 4s 20ms/step - loss: 0.9179 - accuracy: 0.6710 - val_loss: 1.4678 - val_accuracy: 0.5288\n",
      "Epoch 33/100\n",
      "196/196 [==============================] - 4s 20ms/step - loss: 0.8863 - accuracy: 0.6831 - val_loss: 1.4625 - val_accuracy: 0.5291\n",
      "Epoch 34/100\n",
      "196/196 [==============================] - 4s 20ms/step - loss: 0.8906 - accuracy: 0.6805 - val_loss: 1.5622 - val_accuracy: 0.5092\n",
      "Epoch 35/100\n",
      "196/196 [==============================] - 4s 20ms/step - loss: 0.8650 - accuracy: 0.6904 - val_loss: 1.4959 - val_accuracy: 0.5298\n",
      "Epoch 36/100\n",
      "196/196 [==============================] - 4s 19ms/step - loss: 0.8367 - accuracy: 0.6996 - val_loss: 1.5724 - val_accuracy: 0.5135\n",
      "Epoch 37/100\n",
      "196/196 [==============================] - 4s 20ms/step - loss: 0.8275 - accuracy: 0.7031 - val_loss: 1.5449 - val_accuracy: 0.5186\n",
      "Epoch 38/100\n",
      "196/196 [==============================] - 4s 18ms/step - loss: 0.8121 - accuracy: 0.7100 - val_loss: 1.5389 - val_accuracy: 0.5297\n",
      "Epoch 39/100\n",
      "196/196 [==============================] - 4s 18ms/step - loss: 0.7893 - accuracy: 0.7178 - val_loss: 1.5771 - val_accuracy: 0.5272\n",
      "Epoch 40/100\n",
      "196/196 [==============================] - 4s 19ms/step - loss: 0.7864 - accuracy: 0.7182 - val_loss: 1.5940 - val_accuracy: 0.5193\n",
      "Epoch 41/100\n",
      "196/196 [==============================] - 3s 18ms/step - loss: 0.7737 - accuracy: 0.7243 - val_loss: 1.5861 - val_accuracy: 0.5255\n",
      "Epoch 42/100\n",
      "196/196 [==============================] - 3s 18ms/step - loss: 0.7608 - accuracy: 0.7274 - val_loss: 1.6289 - val_accuracy: 0.5199\n",
      "Epoch 43/100\n",
      "196/196 [==============================] - 3s 18ms/step - loss: 0.7471 - accuracy: 0.7340 - val_loss: 1.6441 - val_accuracy: 0.5163\n",
      "Epoch 44/100\n",
      "196/196 [==============================] - 4s 18ms/step - loss: 0.7250 - accuracy: 0.7405 - val_loss: 1.6808 - val_accuracy: 0.5158\n",
      "Epoch 45/100\n",
      "196/196 [==============================] - 4s 18ms/step - loss: 0.7073 - accuracy: 0.7462 - val_loss: 1.6488 - val_accuracy: 0.5215\n",
      "Epoch 46/100\n",
      "196/196 [==============================] - 4s 18ms/step - loss: 0.6929 - accuracy: 0.7535 - val_loss: 1.7437 - val_accuracy: 0.5169\n",
      "Epoch 47/100\n",
      "196/196 [==============================] - 4s 19ms/step - loss: 0.6941 - accuracy: 0.7536 - val_loss: 1.7915 - val_accuracy: 0.5143\n",
      "Epoch 48/100\n",
      "196/196 [==============================] - 4s 18ms/step - loss: 0.6799 - accuracy: 0.7576 - val_loss: 1.7800 - val_accuracy: 0.5175\n",
      "Epoch 49/100\n",
      "196/196 [==============================] - 4s 18ms/step - loss: 0.6720 - accuracy: 0.7601 - val_loss: 1.7644 - val_accuracy: 0.5177\n",
      "Epoch 50/100\n",
      "196/196 [==============================] - 4s 18ms/step - loss: 0.6393 - accuracy: 0.7723 - val_loss: 1.8047 - val_accuracy: 0.5058\n",
      "Epoch 51/100\n",
      "196/196 [==============================] - 4s 18ms/step - loss: 0.6465 - accuracy: 0.7677 - val_loss: 1.8334 - val_accuracy: 0.5065\n",
      "Epoch 52/100\n",
      "196/196 [==============================] - 3s 18ms/step - loss: 0.6350 - accuracy: 0.7698 - val_loss: 1.8422 - val_accuracy: 0.5116\n",
      "Epoch 53/100\n",
      "196/196 [==============================] - 4s 18ms/step - loss: 0.6184 - accuracy: 0.7792 - val_loss: 1.8745 - val_accuracy: 0.5112\n",
      "Epoch 54/100\n",
      "196/196 [==============================] - 4s 19ms/step - loss: 0.5938 - accuracy: 0.7880 - val_loss: 1.9121 - val_accuracy: 0.5065\n",
      "Epoch 55/100\n",
      "196/196 [==============================] - 4s 18ms/step - loss: 0.5858 - accuracy: 0.7894 - val_loss: 1.8906 - val_accuracy: 0.5165\n",
      "Epoch 56/100\n",
      "196/196 [==============================] - 4s 18ms/step - loss: 0.5772 - accuracy: 0.7932 - val_loss: 1.9096 - val_accuracy: 0.5192\n",
      "Epoch 57/100\n"
     ]
    },
    {
     "name": "stdout",
     "output_type": "stream",
     "text": [
      "196/196 [==============================] - 4s 18ms/step - loss: 0.5779 - accuracy: 0.7938 - val_loss: 1.9683 - val_accuracy: 0.5154\n",
      "Epoch 58/100\n",
      "196/196 [==============================] - 4s 18ms/step - loss: 0.5621 - accuracy: 0.7986 - val_loss: 1.9460 - val_accuracy: 0.5212\n",
      "Epoch 59/100\n",
      "196/196 [==============================] - 3s 18ms/step - loss: 0.5347 - accuracy: 0.8091 - val_loss: 1.9801 - val_accuracy: 0.5232\n",
      "Epoch 60/100\n",
      "196/196 [==============================] - 4s 18ms/step - loss: 0.5475 - accuracy: 0.8046 - val_loss: 2.0648 - val_accuracy: 0.5129\n",
      "Epoch 61/100\n",
      "196/196 [==============================] - 3s 18ms/step - loss: 0.5299 - accuracy: 0.8099 - val_loss: 2.0869 - val_accuracy: 0.5169\n",
      "Epoch 62/100\n",
      "196/196 [==============================] - 3s 18ms/step - loss: 0.5347 - accuracy: 0.8078 - val_loss: 2.1108 - val_accuracy: 0.5120\n",
      "Epoch 63/100\n",
      "196/196 [==============================] - 4s 18ms/step - loss: 0.5111 - accuracy: 0.8189 - val_loss: 2.2080 - val_accuracy: 0.5132\n",
      "Epoch 64/100\n",
      "196/196 [==============================] - 4s 18ms/step - loss: 0.5077 - accuracy: 0.8194 - val_loss: 2.1642 - val_accuracy: 0.5062\n",
      "Epoch 65/100\n",
      "196/196 [==============================] - 4s 18ms/step - loss: 0.4897 - accuracy: 0.8251 - val_loss: 2.2171 - val_accuracy: 0.5139\n",
      "Epoch 66/100\n",
      "196/196 [==============================] - 3s 18ms/step - loss: 0.5026 - accuracy: 0.8200 - val_loss: 2.2012 - val_accuracy: 0.5041\n",
      "Epoch 67/100\n",
      "196/196 [==============================] - 4s 18ms/step - loss: 0.4800 - accuracy: 0.8281 - val_loss: 2.2564 - val_accuracy: 0.5121\n",
      "Epoch 68/100\n",
      "196/196 [==============================] - 3s 18ms/step - loss: 0.4609 - accuracy: 0.8341 - val_loss: 2.3056 - val_accuracy: 0.5054\n",
      "Epoch 69/100\n",
      "196/196 [==============================] - 3s 18ms/step - loss: 0.4590 - accuracy: 0.8372 - val_loss: 2.3360 - val_accuracy: 0.5037\n",
      "Epoch 70/100\n",
      "196/196 [==============================] - 3s 18ms/step - loss: 0.4561 - accuracy: 0.8366 - val_loss: 2.3891 - val_accuracy: 0.5039\n",
      "Epoch 71/100\n",
      "196/196 [==============================] - 3s 18ms/step - loss: 0.4406 - accuracy: 0.8430 - val_loss: 2.3242 - val_accuracy: 0.5112\n",
      "Epoch 72/100\n",
      "196/196 [==============================] - 4s 18ms/step - loss: 0.4303 - accuracy: 0.8464 - val_loss: 2.4048 - val_accuracy: 0.5060\n",
      "Epoch 73/100\n",
      "196/196 [==============================] - 3s 18ms/step - loss: 0.4327 - accuracy: 0.8466 - val_loss: 2.4568 - val_accuracy: 0.5052\n",
      "Epoch 74/100\n",
      "196/196 [==============================] - 3s 18ms/step - loss: 0.4165 - accuracy: 0.8506 - val_loss: 2.4717 - val_accuracy: 0.5023\n",
      "Epoch 75/100\n",
      "196/196 [==============================] - 3s 18ms/step - loss: 0.4106 - accuracy: 0.8548 - val_loss: 2.5102 - val_accuracy: 0.4995\n",
      "Epoch 76/100\n",
      "196/196 [==============================] - 4s 18ms/step - loss: 0.4086 - accuracy: 0.8545 - val_loss: 2.6701 - val_accuracy: 0.4998\n",
      "Epoch 77/100\n",
      "196/196 [==============================] - 3s 18ms/step - loss: 0.3955 - accuracy: 0.8574 - val_loss: 2.6286 - val_accuracy: 0.5071\n",
      "Epoch 78/100\n",
      "196/196 [==============================] - 3s 17ms/step - loss: 0.3886 - accuracy: 0.8611 - val_loss: 2.6492 - val_accuracy: 0.4985\n",
      "Epoch 79/100\n",
      "196/196 [==============================] - 4s 18ms/step - loss: 0.4138 - accuracy: 0.8498 - val_loss: 2.6046 - val_accuracy: 0.5007\n",
      "Epoch 80/100\n",
      "196/196 [==============================] - 4s 18ms/step - loss: 0.3925 - accuracy: 0.8591 - val_loss: 2.6985 - val_accuracy: 0.4979\n",
      "Epoch 81/100\n",
      "196/196 [==============================] - 4s 20ms/step - loss: 0.3913 - accuracy: 0.8577 - val_loss: 2.6719 - val_accuracy: 0.5001\n",
      "Epoch 82/100\n",
      "196/196 [==============================] - 4s 19ms/step - loss: 0.3836 - accuracy: 0.8620 - val_loss: 2.7583 - val_accuracy: 0.5038\n",
      "Epoch 83/100\n",
      "196/196 [==============================] - 4s 18ms/step - loss: 0.3805 - accuracy: 0.8635 - val_loss: 2.6845 - val_accuracy: 0.5082\n",
      "Epoch 84/100\n",
      "196/196 [==============================] - 4s 18ms/step - loss: 0.3654 - accuracy: 0.8682 - val_loss: 2.7646 - val_accuracy: 0.5084\n",
      "Epoch 85/100\n",
      "196/196 [==============================] - 4s 18ms/step - loss: 0.3512 - accuracy: 0.8744 - val_loss: 2.8221 - val_accuracy: 0.5011\n",
      "Epoch 86/100\n",
      "196/196 [==============================] - 4s 19ms/step - loss: 0.3550 - accuracy: 0.8719 - val_loss: 2.9427 - val_accuracy: 0.5004\n",
      "Epoch 87/100\n",
      "196/196 [==============================] - 4s 18ms/step - loss: 0.3562 - accuracy: 0.8717 - val_loss: 2.8891 - val_accuracy: 0.5074\n",
      "Epoch 88/100\n",
      "196/196 [==============================] - 4s 18ms/step - loss: 0.3611 - accuracy: 0.8694 - val_loss: 2.8885 - val_accuracy: 0.5034\n",
      "Epoch 89/100\n",
      "196/196 [==============================] - 4s 19ms/step - loss: 0.3300 - accuracy: 0.8832 - val_loss: 2.9427 - val_accuracy: 0.5026\n",
      "Epoch 90/100\n",
      "196/196 [==============================] - 4s 19ms/step - loss: 0.3395 - accuracy: 0.8780 - val_loss: 3.0419 - val_accuracy: 0.4977\n",
      "Epoch 91/100\n",
      "196/196 [==============================] - 4s 20ms/step - loss: 0.3206 - accuracy: 0.8857 - val_loss: 3.0199 - val_accuracy: 0.4962\n",
      "Epoch 92/100\n",
      "196/196 [==============================] - 4s 19ms/step - loss: 0.3429 - accuracy: 0.8773 - val_loss: 3.0783 - val_accuracy: 0.4954\n",
      "Epoch 93/100\n",
      "196/196 [==============================] - 4s 20ms/step - loss: 0.3105 - accuracy: 0.8895 - val_loss: 3.0938 - val_accuracy: 0.5019\n",
      "Epoch 94/100\n",
      "196/196 [==============================] - 4s 21ms/step - loss: 0.3182 - accuracy: 0.8858 - val_loss: 3.1122 - val_accuracy: 0.4996\n",
      "Epoch 95/100\n",
      "196/196 [==============================] - 4s 20ms/step - loss: 0.3078 - accuracy: 0.8899 - val_loss: 3.1352 - val_accuracy: 0.5055\n",
      "Epoch 96/100\n",
      "196/196 [==============================] - 4s 19ms/step - loss: 0.2968 - accuracy: 0.8954 - val_loss: 3.2008 - val_accuracy: 0.4955\n",
      "Epoch 97/100\n",
      "196/196 [==============================] - 4s 20ms/step - loss: 0.3288 - accuracy: 0.8830 - val_loss: 3.1916 - val_accuracy: 0.4994\n",
      "Epoch 98/100\n",
      "196/196 [==============================] - 4s 20ms/step - loss: 0.2888 - accuracy: 0.8966 - val_loss: 3.2083 - val_accuracy: 0.4933\n",
      "Epoch 99/100\n",
      "196/196 [==============================] - 4s 22ms/step - loss: 0.3190 - accuracy: 0.8858 - val_loss: 3.3341 - val_accuracy: 0.5017\n",
      "Epoch 100/100\n",
      "196/196 [==============================] - 4s 22ms/step - loss: 0.3056 - accuracy: 0.8903 - val_loss: 3.3428 - val_accuracy: 0.5018\n"
     ]
    },
    {
     "data": {
      "text/plain": [
       "<tensorflow.python.keras.callbacks.History at 0x1ff50f2fb48>"
      ]
     },
     "execution_count": 11,
     "metadata": {},
     "output_type": "execute_result"
    }
   ],
   "source": [
    "model.fit(x_train, y_train, \n",
    "          epochs=EPOCHS, \n",
    "          batch_size=BATCH_SIZE, \n",
    "          validation_data=(x_test, y_test), \n",
    "          shuffle=True)"
   ]
  },
  {
   "cell_type": "code",
   "execution_count": 13,
   "metadata": {},
   "outputs": [
    {
     "data": {
      "image/png": "[encoded data removed]",
      "text/plain": [
       "<Figure size 432x288 with 1 Axes>"
      ]
     },
     "metadata": {
      "needs_background": "light"
     },
     "output_type": "display_data"
    },
    {
     "data": {
      "image/png": "[encoded data removed]",
      "text/plain": [
       "<Figure size 432x288 with 1 Axes>"
      ]
     },
     "metadata": {
      "needs_background": "light"
     },
     "output_type": "display_data"
    }
   ],
   "source": [
    "# 訓練模型並檢視驗證集的結果\n",
    "import matplotlib.pyplot as plt\n",
    "\n",
    "train_loss = model.history.history[\"loss\"]\n",
    "valid_loss = model.history.history[\"val_loss\"]\n",
    "\n",
    "train_acc = model.history.history[\"accuracy\"]\n",
    "valid_acc = model.history.history[\"val_accuracy\"]\n",
    "\n",
    "plt.plot(range(len(train_loss)), train_loss, label=\"train loss\")\n",
    "plt.plot(range(len(valid_loss)), valid_loss, label=\"valid loss\")\n",
    "plt.legend()\n",
    "plt.title(\"Loss\")\n",
    "plt.show()\n",
    "\n",
    "plt.plot(range(len(train_acc)), train_acc, label=\"train accuracy\")\n",
    "plt.plot(range(len(valid_acc)), valid_acc, label=\"valid accuracy\")\n",
    "plt.legend()\n",
    "plt.title(\"Accuracy\")\n",
    "plt.show()"
   ]
  },
  {
   "cell_type": "markdown",
   "metadata": {},
   "source": [
    "## Work\n",
    "1. 請嘗試將 preproc_x 替換成以每筆資料的 min/max 進行標準化至 -1 ~ 1 間，再進行訓練\n",
    "2. 請嘗試將 mlp 疊更深 (e.g 5~10 層)，進行訓練後觀察 learning curve 的走勢\n",
    "3. (optional) 請改用 GPU 進行訓練 (如果你有 GPU 的話)，比較使用 CPU 與 GPU 的訓練速度"
   ]
  }
 ],
 "metadata": {
  "kernelspec": {
   "display_name": "Python 3",
   "language": "python",
   "name": "python3"
  },
  "language_info": {
   "codemirror_mode": {
    "name": "ipython",
    "version": 3
   },
   "file_extension": ".py",
   "mimetype": "text/x-python",
   "name": "python",
   "nbconvert_exporter": "python",
   "pygments_lexer": "ipython3",
   "version": "3.7.4"
  }
 },
 "nbformat": 4,
 "nbformat_minor": 2
}
