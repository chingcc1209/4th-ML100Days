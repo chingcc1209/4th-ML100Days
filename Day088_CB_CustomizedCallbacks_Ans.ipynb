{
 "cells": [
  {
   "cell_type": "markdown",
   "metadata": {},
   "source": [
    "## Work\n",
    "1. 請嘗試寫一個 callback 用來記錄各類別在訓練過程中，對驗證集的 True Positive 與 True Negative"
   ]
  },
  {
   "cell_type": "code",
   "execution_count": 1,
   "metadata": {},
   "outputs": [
    {
     "name": "stderr",
     "output_type": "stream",
     "text": [
      "Using TensorFlow backend.\n"
     ]
    }
   ],
   "source": [
    "import os\n",
    "import keras\n",
    "\n",
    "# Disable GPU\n",
    "os.environ[\"CUDA_VISIBLE_DEVICES\"] = \"\""
   ]
  },
  {
   "cell_type": "code",
   "execution_count": 2,
   "metadata": {},
   "outputs": [],
   "source": [
    "train, test = keras.datasets.cifar10.load_data()"
   ]
  },
  {
   "cell_type": "code",
   "execution_count": 3,
   "metadata": {},
   "outputs": [],
   "source": [
    "## 資料前處理\n",
    "def preproc_x(x, flatten=True):\n",
    "    x = x / 255.\n",
    "    if flatten:\n",
    "        x = x.reshape((len(x), -1))\n",
    "    return x\n",
    "\n",
    "def preproc_y(y, num_classes=10):\n",
    "    if y.shape[-1] == 1:\n",
    "        y = keras.utils.to_categorical(y, num_classes)\n",
    "    return y    "
   ]
  },
  {
   "cell_type": "code",
   "execution_count": 4,
   "metadata": {},
   "outputs": [],
   "source": [
    "x_train, y_train = train\n",
    "x_test, y_test = test\n",
    "\n",
    "# Preproc the inputs\n",
    "x_train = preproc_x(x_train)\n",
    "x_test = preproc_x(x_test)\n",
    "\n",
    "# Preprc the outputs\n",
    "y_train = preproc_y(y_train)\n",
    "y_test = preproc_y(y_test)"
   ]
  },
  {
   "cell_type": "code",
   "execution_count": 5,
   "metadata": {},
   "outputs": [],
   "source": [
    "from keras.layers import BatchNormalization\n",
    "def build_mlp(input_shape, output_units=10, num_neurons=[256, 256, 256]):\n",
    "    input_layer = keras.layers.Input(input_shape)\n",
    "    \n",
    "    for i, n_units in enumerate(num_neurons):\n",
    "        if i == 0:\n",
    "            x = keras.layers.Dense(units=n_units, \n",
    "                                   activation=\"relu\", \n",
    "                                   name=\"hidden_layer\"+str(i+1))(input_layer)\n",
    "            x = BatchNormalization()(x)\n",
    "        else:\n",
    "            x = keras.layers.Dense(units=n_units, \n",
    "                                   activation=\"relu\", \n",
    "                                   name=\"hidden_layer\"+str(i+1))(x)\n",
    "            x = BatchNormalization()(x)\n",
    "    \n",
    "    out = keras.layers.Dense(units=output_units, activation=\"softmax\", name=\"output\")(x)\n",
    "    \n",
    "    model = keras.models.Model(inputs=[input_layer], outputs=[out])\n",
    "    return model"
   ]
  },
  {
   "cell_type": "code",
   "execution_count": 6,
   "metadata": {},
   "outputs": [],
   "source": [
    "## 超參數設定\n",
    "LEARNING_RATE = 1e-3\n",
    "EPOCHS = 25\n",
    "BATCH_SIZE = 1024\n",
    "MOMENTUM = 0.95"
   ]
  },
  {
   "cell_type": "code",
   "execution_count": 12,
   "metadata": {},
   "outputs": [],
   "source": [
    "# 載入 Callbacks\n",
    "from keras.callbacks import Callback\n",
    "\n",
    "# Record_fp_tp\n",
    "class Record_tp_tn(Callback):\n",
    "    def on_train_begin(self, epoch, logs = {}):\n",
    "        logs = logs or {}\n",
    "        record_items = [\"val_tp\", \"val_tn\"]\n",
    "        for i in record_items:\n",
    "            if i not in self.params['metrics']:\n",
    "                self.params['metrics'].append(i)\n",
    "    \n",
    "    def on_epoch_end(self, epoch, logs = {}, thres=0.5):\n",
    "        logs = logs or {}\n",
    "        y_true = self.validation_data[1].argmax(axis = 1)\n",
    "        y_pred = self.model.predict(self.validation_data[0])\n",
    "        print(y_pred[:, 0])\n",
    "        print(y_pred[:, 1])\n",
    "        print(y_pred[:, 2])\n",
    "        y_pred = (y_pred[:, 1] >= thres) * 1\n",
    "        print(y_pred.shape)\n",
    "        val_tp = sum(y_true*y_pred)\n",
    "        val_tn = sum((y_true==0) & (y_pred==0))\n",
    "        \n",
    "        logs[\"val_tp\"] = val_tp\n",
    "        logs[\"val_tn\"] = val_tn\n",
    "        \n",
    "rec_tptn = Record_tp_tn()"
   ]
  },
  {
   "cell_type": "code",
   "execution_count": 13,
   "metadata": {
    "scrolled": true
   },
   "outputs": [
    {
     "name": "stdout",
     "output_type": "stream",
     "text": [
      "Model: \"model_4\"\n",
      "_________________________________________________________________\n",
      "Layer (type)                 Output Shape              Param #   \n",
      "=================================================================\n",
      "input_4 (InputLayer)         (None, 3072)              0         \n",
      "_________________________________________________________________\n",
      "hidden_layer1 (Dense)        (None, 256)               786688    \n",
      "_________________________________________________________________\n",
      "batch_normalization_10 (Batc (None, 256)               1024      \n",
      "_________________________________________________________________\n",
      "hidden_layer2 (Dense)        (None, 256)               65792     \n",
      "_________________________________________________________________\n",
      "batch_normalization_11 (Batc (None, 256)               1024      \n",
      "_________________________________________________________________\n",
      "hidden_layer3 (Dense)        (None, 256)               65792     \n",
      "_________________________________________________________________\n",
      "batch_normalization_12 (Batc (None, 256)               1024      \n",
      "_________________________________________________________________\n",
      "output (Dense)               (None, 10)                2570      \n",
      "=================================================================\n",
      "Total params: 923,914\n",
      "Trainable params: 922,378\n",
      "Non-trainable params: 1,536\n",
      "_________________________________________________________________\n",
      "Train on 50000 samples, validate on 10000 samples\n",
      "Epoch 1/25\n",
      "50000/50000 [==============================] - 5s 99us/step - loss: 2.2241 - accuracy: 0.2643 - val_loss: 2.1518 - val_accuracy: 0.2247\n",
      "[0.09079434 0.0973336  0.09786752 ... 0.06523967 0.0754343  0.11438937]\n",
      "[0.04843087 0.10328794 0.06056527 ... 0.04670428 0.05467321 0.05046136]\n",
      "[0.12300187 0.08892626 0.07726409 ... 0.10117693 0.09340347 0.13934699]\n",
      "(10000,)\n",
      "Epoch 2/25\n",
      "50000/50000 [==============================] - 5s 94us/step - loss: 1.7787 - accuracy: 0.3788 - val_loss: 1.9911 - val_accuracy: 0.3081\n",
      "[0.0903359  0.11587962 0.13256744 ... 0.05223694 0.06919987 0.13200991]\n",
      "[0.04713721 0.130016   0.09351619 ... 0.02972132 0.05725629 0.06861441]\n",
      "[0.13262813 0.04082675 0.03594054 ... 0.07207844 0.0699967  0.13680923]\n",
      "(10000,)\n",
      "Epoch 3/25\n",
      "50000/50000 [==============================] - 5s 97us/step - loss: 1.6503 - accuracy: 0.4217 - val_loss: 1.8579 - val_accuracy: 0.3538\n",
      "[0.09234168 0.14297564 0.2587993  ... 0.03790731 0.03746214 0.12281702]\n",
      "[0.03812243 0.15242964 0.10225297 ... 0.01974733 0.05507262 0.05518095]\n",
      "[0.12364342 0.02206555 0.01590068 ... 0.07501791 0.04801125 0.10296775]\n",
      "(10000,)\n",
      "Epoch 4/25\n",
      "50000/50000 [==============================] - 5s 101us/step - loss: 1.5720 - accuracy: 0.4477 - val_loss: 1.7414 - val_accuracy: 0.3897\n",
      "[0.04354442 0.11621623 0.2392478  ... 0.02143687 0.02758111 0.04923505]\n",
      "[0.02819975 0.13607818 0.12271589 ... 0.00857199 0.0471512  0.03968666]\n",
      "[0.1200991  0.01490939 0.00975595 ... 0.08414314 0.04635466 0.18108709]\n",
      "(10000,)\n",
      "Epoch 5/25\n",
      "50000/50000 [==============================] - 5s 100us/step - loss: 1.5156 - accuracy: 0.4689 - val_loss: 1.6623 - val_accuracy: 0.4082\n",
      "[0.01992136 0.06704897 0.19943899 ... 0.0141577  0.02787002 0.02474337]\n",
      "[0.03302573 0.11597652 0.09737007 ... 0.00518119 0.05702284 0.03996389]\n",
      "[0.19279575 0.01193614 0.01054369 ... 0.09057324 0.0683567  0.18468532]\n",
      "(10000,)\n",
      "Epoch 6/25\n",
      "50000/50000 [==============================] - 5s 100us/step - loss: 1.4711 - accuracy: 0.4844 - val_loss: 1.6050 - val_accuracy: 0.4274\n",
      "[0.01752185 0.06843846 0.27010605 ... 0.01184709 0.02465525 0.01492918]\n",
      "[0.03657403 0.09780385 0.08987602 ... 0.00368039 0.05085992 0.06729347]\n",
      "[0.10708912 0.00902414 0.01142805 ... 0.09144659 0.05049947 0.1241776 ]\n",
      "(10000,)\n",
      "Epoch 7/25\n",
      "50000/50000 [==============================] - 5s 101us/step - loss: 1.4326 - accuracy: 0.4990 - val_loss: 1.5768 - val_accuracy: 0.4432\n",
      "[0.0143324  0.07655635 0.2946399  ... 0.01010098 0.0290239  0.01156996]\n",
      "[0.03271746 0.13856749 0.12622644 ... 0.00196261 0.04112489 0.04452098]\n",
      "[0.14105661 0.01056553 0.01310422 ... 0.08153421 0.06366026 0.12312037]\n",
      "(10000,)\n",
      "Epoch 8/25\n",
      "50000/50000 [==============================] - 5s 102us/step - loss: 1.3984 - accuracy: 0.5094 - val_loss: 1.5513 - val_accuracy: 0.4462\n",
      "[0.01528803 0.09090738 0.24747264 ... 0.00744297 0.02052059 0.01325618]\n",
      "[0.04575077 0.16404504 0.13775115 ... 0.00223414 0.06678841 0.06107235]\n",
      "[0.09035546 0.01481179 0.00861808 ... 0.11716805 0.07053887 0.17253329]\n",
      "(10000,)\n",
      "Epoch 9/25\n",
      "50000/50000 [==============================] - 5s 103us/step - loss: 1.3684 - accuracy: 0.5197 - val_loss: 1.5226 - val_accuracy: 0.4577\n",
      "[0.01442002 0.05244409 0.35253865 ... 0.00952636 0.01445425 0.01124464]\n",
      "[0.07401674 0.15622184 0.18088824 ... 0.00197101 0.04504617 0.07010306]\n",
      "[0.08786972 0.01198668 0.01026102 ... 0.12411686 0.07318916 0.10951481]\n",
      "(10000,)\n",
      "Epoch 10/25\n",
      "50000/50000 [==============================] - 5s 103us/step - loss: 1.3428 - accuracy: 0.5303 - val_loss: 1.5133 - val_accuracy: 0.4638\n",
      "[0.01143158 0.02646175 0.17657085 ... 0.00823493 0.0048606  0.00731335]\n",
      "[0.05221719 0.12706903 0.14242923 ... 0.00175836 0.03820828 0.09284805]\n",
      "[0.07998377 0.00929234 0.00639485 ... 0.1361543  0.05245224 0.08927923]\n",
      "(10000,)\n",
      "Epoch 11/25\n",
      "50000/50000 [==============================] - 5s 104us/step - loss: 1.3165 - accuracy: 0.5406 - val_loss: 1.4997 - val_accuracy: 0.4659\n",
      "[0.02318871 0.03053712 0.22052844 ... 0.00974598 0.00954233 0.01475567]\n",
      "[0.07604115 0.16503245 0.24123988 ... 0.00249157 0.04660198 0.06443132]\n",
      "[0.09977954 0.0071019  0.01145069 ... 0.18502119 0.09096453 0.15682207]\n",
      "(10000,)\n",
      "Epoch 12/25\n",
      "50000/50000 [==============================] - 5s 103us/step - loss: 1.2920 - accuracy: 0.5502 - val_loss: 1.4879 - val_accuracy: 0.4698\n",
      "[0.01229804 0.04784289 0.39980242 ... 0.01014613 0.01103197 0.01311037]\n",
      "[0.12831305 0.12436791 0.09446769 ... 0.00362777 0.06364248 0.06743399]\n",
      "[0.11216273 0.01613287 0.02651901 ... 0.13361974 0.05795031 0.1038963 ]\n",
      "(10000,)\n",
      "Epoch 13/25\n",
      "50000/50000 [==============================] - 5s 104us/step - loss: 1.2695 - accuracy: 0.5579 - val_loss: 1.4973 - val_accuracy: 0.4658\n",
      "[0.01077786 0.00768677 0.09899471 ... 0.01969549 0.00547776 0.01161276]\n",
      "[0.09518057 0.07178327 0.09237422 ... 0.0036651  0.03237338 0.04347662]\n",
      "[0.08717758 0.00207864 0.01016494 ... 0.16612102 0.0667178  0.09075154]\n",
      "(10000,)\n",
      "Epoch 14/25\n",
      "50000/50000 [==============================] - 5s 105us/step - loss: 1.2467 - accuracy: 0.5665 - val_loss: 1.4877 - val_accuracy: 0.4667\n",
      "[0.0082776  0.05925409 0.37724873 ... 0.01937875 0.00624593 0.00947774]\n",
      "[0.13969867 0.05049057 0.0591914  ... 0.0042831  0.02814556 0.02972813]\n",
      "[0.11298975 0.00703134 0.02256795 ... 0.20341155 0.0506091  0.15149257]\n",
      "(10000,)\n",
      "Epoch 15/25\n",
      "50000/50000 [==============================] - 5s 109us/step - loss: 1.2252 - accuracy: 0.5741 - val_loss: 1.4749 - val_accuracy: 0.4738\n",
      "[0.00768884 0.03950102 0.4224041  ... 0.01751688 0.00649282 0.01521323]\n",
      "[0.1408488  0.12999953 0.15278342 ... 0.00505308 0.0355084  0.05292704]\n",
      "[0.0442786  0.00713407 0.01259053 ... 0.1767344  0.08232661 0.09460635]\n",
      "(10000,)\n",
      "Epoch 16/25\n",
      "50000/50000 [==============================] - 5s 104us/step - loss: 1.2043 - accuracy: 0.5827 - val_loss: 1.4751 - val_accuracy: 0.4748\n",
      "[0.00647418 0.04704762 0.29077503 ... 0.01983635 0.00252614 0.01491218]\n",
      "[0.09646412 0.10638516 0.13643534 ... 0.00610812 0.01992496 0.04532757]\n",
      "[0.10310283 0.00961772 0.0179438  ... 0.13280377 0.05617192 0.09483873]\n",
      "(10000,)\n",
      "Epoch 17/25\n",
      "50000/50000 [==============================] - 5s 105us/step - loss: 1.1855 - accuracy: 0.5903 - val_loss: 1.4630 - val_accuracy: 0.4844\n",
      "[0.0093414  0.05033918 0.3746497  ... 0.02701035 0.0082392  0.02371406]\n",
      "[0.13744706 0.31419766 0.20184769 ... 0.00631395 0.0523366  0.04658392]\n",
      "[0.08140995 0.01525996 0.0154012  ... 0.13716121 0.1005621  0.13469467]\n",
      "(10000,)\n",
      "Epoch 18/25\n",
      "50000/50000 [==============================] - 5s 105us/step - loss: 1.1650 - accuracy: 0.5979 - val_loss: 1.4691 - val_accuracy: 0.4794\n",
      "[0.00763148 0.07476418 0.30489233 ... 0.04548974 0.00518554 0.01850275]\n",
      "[0.1757291  0.19627239 0.16438581 ... 0.01416133 0.02949407 0.05288591]\n",
      "[0.05671546 0.01055234 0.01037819 ... 0.12340878 0.05714183 0.08819018]\n",
      "(10000,)\n",
      "Epoch 19/25\n"
     ]
    },
    {
     "name": "stdout",
     "output_type": "stream",
     "text": [
      "50000/50000 [==============================] - 5s 100us/step - loss: 1.1458 - accuracy: 0.6041 - val_loss: 1.4513 - val_accuracy: 0.4894\n",
      "[0.00799285 0.06810232 0.389173   ... 0.03269584 0.00257269 0.01991636]\n",
      "[0.2588703  0.17212093 0.17779332 ... 0.00779025 0.02432821 0.05851508]\n",
      "[0.06871565 0.01469323 0.00931924 ... 0.11451579 0.03416244 0.10588697]\n",
      "(10000,)\n",
      "Epoch 20/25\n",
      "50000/50000 [==============================] - 5s 99us/step - loss: 1.1279 - accuracy: 0.6134 - val_loss: 1.4651 - val_accuracy: 0.4845\n",
      "[0.00840638 0.03223003 0.2736295  ... 0.04333777 0.00427139 0.03254971]\n",
      "[0.2678345  0.10214373 0.11874409 ... 0.0141461  0.04321038 0.04595052]\n",
      "[0.07697833 0.00291756 0.01235729 ... 0.09613607 0.06229461 0.11876234]\n",
      "(10000,)\n",
      "Epoch 21/25\n",
      "50000/50000 [==============================] - 5s 100us/step - loss: 1.1087 - accuracy: 0.6181 - val_loss: 1.4570 - val_accuracy: 0.4868\n",
      "[0.00862341 0.04116284 0.21405908 ... 0.0431118  0.00312975 0.01494608]\n",
      "[0.2974877  0.10878    0.09856362 ... 0.00816014 0.0304477  0.05637008]\n",
      "[0.04963934 0.00512684 0.00890501 ... 0.11981431 0.06051124 0.12546706]\n",
      "(10000,)\n",
      "Epoch 22/25\n",
      "50000/50000 [==============================] - 5s 100us/step - loss: 1.0930 - accuracy: 0.6248 - val_loss: 1.4557 - val_accuracy: 0.4879\n",
      "[0.00489129 0.03006558 0.43513972 ... 0.03103454 0.00313573 0.01957882]\n",
      "[0.4596561  0.11187975 0.06403836 ... 0.00625527 0.02427731 0.03941427]\n",
      "[0.04581501 0.0079016  0.01669519 ... 0.12592942 0.051162   0.12198173]\n",
      "(10000,)\n",
      "Epoch 23/25\n",
      "50000/50000 [==============================] - 5s 102us/step - loss: 1.0751 - accuracy: 0.6322 - val_loss: 1.4462 - val_accuracy: 0.4906\n",
      "[0.00482802 0.03221732 0.3631754  ... 0.0245941  0.00285364 0.01909894]\n",
      "[0.43006253 0.11859108 0.08924578 ... 0.00558355 0.02484929 0.05005143]\n",
      "[0.05208682 0.0098476  0.01144452 ... 0.10140254 0.04603727 0.08556032]\n",
      "(10000,)\n",
      "Epoch 24/25\n",
      "50000/50000 [==============================] - 5s 101us/step - loss: 1.0576 - accuracy: 0.6386 - val_loss: 1.4496 - val_accuracy: 0.4922\n",
      "[0.00392305 0.02542713 0.30781928 ... 0.04670742 0.00210231 0.02663637]\n",
      "[0.19208768 0.0873841  0.10831209 ... 0.00835636 0.01750735 0.02689619]\n",
      "[0.09701382 0.00573713 0.02443478 ... 0.06174856 0.06750923 0.07381481]\n",
      "(10000,)\n",
      "Epoch 25/25\n",
      "50000/50000 [==============================] - 5s 102us/step - loss: 1.0402 - accuracy: 0.6455 - val_loss: 1.4657 - val_accuracy: 0.4864\n",
      "[0.00593584 0.11645371 0.504153   ... 0.05673378 0.003633   0.0442082 ]\n",
      "[0.52857965 0.2730559  0.1046411  ... 0.01202127 0.0254536  0.05143409]\n",
      "[0.02927354 0.01337515 0.00918433 ... 0.08106416 0.07636789 0.04690353]\n",
      "(10000,)\n"
     ]
    }
   ],
   "source": [
    "model = build_mlp(input_shape=x_train.shape[1:])\n",
    "model.summary()\n",
    "optimizer = keras.optimizers.SGD(lr=LEARNING_RATE, nesterov=True, momentum=MOMENTUM)\n",
    "model.compile(loss=\"categorical_crossentropy\", metrics=[\"accuracy\"], optimizer=optimizer)\n",
    "\n",
    "model.fit(x_train, y_train, \n",
    "          epochs=EPOCHS, \n",
    "          batch_size=BATCH_SIZE, \n",
    "          validation_data=(x_test, y_test), \n",
    "          shuffle=True,\n",
    "          callbacks=[rec_tptn]\n",
    "         )\n",
    "\n",
    "# Collect results\n",
    "train_loss = model.history.history[\"loss\"]\n",
    "valid_loss = model.history.history[\"val_loss\"]\n",
    "train_acc = model.history.history[\"accuracy\"]\n",
    "valid_acc = model.history.history[\"val_accuracy\"]\n",
    "\n",
    "valid_tp = model.history.history['val_tp']\n",
    "valid_tn = model.history.history['val_tn']"
   ]
  },
  {
   "cell_type": "code",
   "execution_count": 14,
   "metadata": {},
   "outputs": [
    {
     "data": {
      "image/png": "[encoded data removed]",
      "text/plain": [
       "<Figure size 432x288 with 1 Axes>"
      ]
     },
     "metadata": {
      "needs_background": "light"
     },
     "output_type": "display_data"
    },
    {
     "data": {
      "image/png": "[encoded data removed]",
      "text/plain": [
       "<Figure size 432x288 with 1 Axes>"
      ]
     },
     "metadata": {
      "needs_background": "light"
     },
     "output_type": "display_data"
    },
    {
     "data": {
      "image/png": "[encoded data removed]",
      "text/plain": [
       "<Figure size 432x288 with 1 Axes>"
      ]
     },
     "metadata": {
      "needs_background": "light"
     },
     "output_type": "display_data"
    }
   ],
   "source": [
    "import matplotlib.pyplot as plt\n",
    "%matplotlib inline\n",
    "\n",
    "plt.plot(range(len(train_loss)), train_loss, label=\"train loss\")\n",
    "plt.plot(range(len(valid_loss)), valid_loss, label=\"valid loss\")\n",
    "plt.legend()\n",
    "plt.title(\"Loss\")\n",
    "plt.show()\n",
    "\n",
    "plt.plot(range(len(train_acc)), train_acc, label=\"train accuracy\")\n",
    "plt.plot(range(len(valid_acc)), valid_acc, label=\"valid accuracy\")\n",
    "plt.legend()\n",
    "plt.title(\"Accuracy\")\n",
    "plt.show()\n",
    "\n",
    "plt.plot(range(len(valid_tp)), valid_tp, label=\"valid tp\", color=\"navy\")\n",
    "plt.plot(range(len(valid_tn)), valid_tn, label=\"valid tn\", color=\"red\")\n",
    "plt.legend()\n",
    "plt.title(\"True positives and True Negatives\")\n",
    "plt.show()\n"
   ]
  },
  {
   "cell_type": "code",
   "execution_count": null,
   "metadata": {},
   "outputs": [],
   "source": []
  }
 ],
 "metadata": {
  "kernelspec": {
   "display_name": "Python 3",
   "language": "python",
   "name": "python3"
  },
  "language_info": {
   "codemirror_mode": {
    "name": "ipython",
    "version": 3
   },
   "file_extension": ".py",
   "mimetype": "text/x-python",
   "name": "python",
   "nbconvert_exporter": "python",
   "pygments_lexer": "ipython3",
   "version": "3.7.4"
  }
 },
 "nbformat": 4,
 "nbformat_minor": 2
}
