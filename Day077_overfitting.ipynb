{
 "cells": [
  {
   "cell_type": "markdown",
   "metadata": {},
   "source": [
    "## 範例重點\n",
    "* 學會從 Keras 內建函式取得資料\n",
    "* 能夠建立簡易的深度學習模型\n",
    "* 觀察並了解 Overfit 現象"
   ]
  },
  {
   "cell_type": "code",
   "execution_count": 1,
   "metadata": {},
   "outputs": [
    {
     "name": "stderr",
     "output_type": "stream",
     "text": [
      "Using TensorFlow backend.\n"
     ]
    }
   ],
   "source": [
    "import os\n",
    "import keras\n",
    "\n",
    "# 本範例不需使用 GPU, 將 GPU 設定為 \"無\"\n",
    "os.environ[\"CUDA_VISIBLE_DEVICES\"] = \"\""
   ]
  },
  {
   "cell_type": "code",
   "execution_count": 2,
   "metadata": {},
   "outputs": [],
   "source": [
    "# 從 Keras 的內建功能中，取得 train 與 test 資料集\n",
    "train, test = keras.datasets.cifar10.load_data()"
   ]
  },
  {
   "cell_type": "code",
   "execution_count": 3,
   "metadata": {},
   "outputs": [],
   "source": [
    "# 將 X 與 Y 獨立放進變數\n",
    "x_train, y_train = train\n",
    "x_test, y_test = test\n",
    "# 資料前處理 - 標準化\n",
    "x_train = x_train / 255.\n",
    "x_test = x_test / 255.\n",
    "\n",
    "# 將資料從圖形 (RGB) 轉為向量 (Single Vector)\n",
    "x_train = x_train.reshape((len(x_train), -1))\n",
    "x_test = x_test.reshape((len(x_test), -1))\n",
    "\n",
    "# 將目標轉為 one-hot encoding\n",
    "y_train = keras.utils.to_categorical(y_train, num_classes=10)\n",
    "y_test = keras.utils.to_categorical(y_test, num_classes=10)"
   ]
  },
  {
   "cell_type": "code",
   "execution_count": 4,
   "metadata": {},
   "outputs": [],
   "source": [
    "# 建立一個有三層隱藏層之神經網路\n",
    "def build_mlp():\n",
    "    input_layer = keras.layers.Input([x_train.shape[-1]])\n",
    "    x = keras.layers.Dense(units=512, activation=\"relu\")(input_layer)\n",
    "    x = keras.layers.Dense(units=256, activation=\"relu\")(x)\n",
    "    x = keras.layers.Dense(units=128, activation=\"relu\")(x)\n",
    "    out = keras.layers.Dense(units=10, activation=\"softmax\")(x)\n",
    "    \n",
    "    model = keras.models.Model(inputs=[input_layer], outputs=[out])\n",
    "    return model"
   ]
  },
  {
   "cell_type": "code",
   "execution_count": 5,
   "metadata": {},
   "outputs": [
    {
     "name": "stdout",
     "output_type": "stream",
     "text": [
      "Model: \"model_1\"\n",
      "_________________________________________________________________\n",
      "Layer (type)                 Output Shape              Param #   \n",
      "=================================================================\n",
      "input_1 (InputLayer)         (None, 3072)              0         \n",
      "_________________________________________________________________\n",
      "dense_1 (Dense)              (None, 512)               1573376   \n",
      "_________________________________________________________________\n",
      "dense_2 (Dense)              (None, 256)               131328    \n",
      "_________________________________________________________________\n",
      "dense_3 (Dense)              (None, 128)               32896     \n",
      "_________________________________________________________________\n",
      "dense_4 (Dense)              (None, 10)                1290      \n",
      "=================================================================\n",
      "Total params: 1,738,890\n",
      "Trainable params: 1,738,890\n",
      "Non-trainable params: 0\n",
      "_________________________________________________________________\n"
     ]
    }
   ],
   "source": [
    "model = build_mlp()\n",
    "# 用 Keras 內建方法檢視模型各層參數量\n",
    "model.summary()\n",
    "\n",
    "optimizer = keras.optimizers.Adam(lr=0.001)\n",
    "model.compile(loss=\"categorical_crossentropy\", metrics=[\"accuracy\"], optimizer=optimizer)"
   ]
  },
  {
   "cell_type": "code",
   "execution_count": 7,
   "metadata": {},
   "outputs": [
    {
     "name": "stdout",
     "output_type": "stream",
     "text": [
      "Train on 50000 samples, validate on 10000 samples\n",
      "Epoch 1/100\n",
      "50000/50000 [==============================] - 24s 487us/step - loss: 0.9840 - accuracy: 0.6472 - val_loss: 1.4270 - val_accuracy: 0.5243\n",
      "Epoch 2/100\n",
      "50000/50000 [==============================] - 20s 410us/step - loss: 0.9610 - accuracy: 0.6577 - val_loss: 1.4360 - val_accuracy: 0.5141\n",
      "Epoch 3/100\n",
      "50000/50000 [==============================] - 12s 248us/step - loss: 0.9402 - accuracy: 0.6629 - val_loss: 1.4564 - val_accuracy: 0.5185\n",
      "Epoch 4/100\n",
      "50000/50000 [==============================] - 12s 250us/step - loss: 0.9319 - accuracy: 0.6683 - val_loss: 1.4379 - val_accuracy: 0.5255\n",
      "Epoch 5/100\n",
      "50000/50000 [==============================] - 12s 246us/step - loss: 0.9115 - accuracy: 0.6751 - val_loss: 1.5138 - val_accuracy: 0.5106\n",
      "Epoch 6/100\n",
      "50000/50000 [==============================] - 12s 231us/step - loss: 0.8980 - accuracy: 0.6772 - val_loss: 1.4874 - val_accuracy: 0.5213\n",
      "Epoch 7/100\n",
      "50000/50000 [==============================] - 12s 234us/step - loss: 0.8867 - accuracy: 0.6834 - val_loss: 1.4858 - val_accuracy: 0.5160\n",
      "Epoch 8/100\n",
      "50000/50000 [==============================] - 11s 228us/step - loss: 0.8602 - accuracy: 0.6908 - val_loss: 1.5252 - val_accuracy: 0.5154\n",
      "Epoch 9/100\n",
      "50000/50000 [==============================] - 11s 229us/step - loss: 0.8503 - accuracy: 0.6944 - val_loss: 1.4913 - val_accuracy: 0.5267\n",
      "Epoch 10/100\n",
      "50000/50000 [==============================] - 14s 290us/step - loss: 0.8278 - accuracy: 0.7037 - val_loss: 1.5406 - val_accuracy: 0.5124\n",
      "Epoch 11/100\n",
      "50000/50000 [==============================] - 25s 497us/step - loss: 0.8071 - accuracy: 0.7097 - val_loss: 1.5838 - val_accuracy: 0.5161\n",
      "Epoch 12/100\n",
      "50000/50000 [==============================] - 24s 483us/step - loss: 0.8016 - accuracy: 0.7130 - val_loss: 1.5741 - val_accuracy: 0.5187\n",
      "Epoch 13/100\n",
      "50000/50000 [==============================] - 25s 492us/step - loss: 0.7806 - accuracy: 0.7213 - val_loss: 1.5977 - val_accuracy: 0.5179\n",
      "Epoch 14/100\n",
      "50000/50000 [==============================] - 24s 476us/step - loss: 0.7524 - accuracy: 0.7307 - val_loss: 1.5856 - val_accuracy: 0.5193\n",
      "Epoch 15/100\n",
      "50000/50000 [==============================] - 25s 491us/step - loss: 0.7446 - accuracy: 0.7329 - val_loss: 1.6362 - val_accuracy: 0.5158\n",
      "Epoch 16/100\n",
      "50000/50000 [==============================] - 24s 483us/step - loss: 0.7436 - accuracy: 0.7344 - val_loss: 1.6453 - val_accuracy: 0.5224\n",
      "Epoch 17/100\n",
      "50000/50000 [==============================] - 24s 484us/step - loss: 0.7154 - accuracy: 0.7447 - val_loss: 1.7049 - val_accuracy: 0.5156\n",
      "Epoch 18/100\n",
      "50000/50000 [==============================] - 25s 495us/step - loss: 0.6947 - accuracy: 0.7518 - val_loss: 1.6912 - val_accuracy: 0.5178\n",
      "Epoch 19/100\n",
      "50000/50000 [==============================] - 25s 493us/step - loss: 0.6866 - accuracy: 0.7566 - val_loss: 1.6918 - val_accuracy: 0.5168\n",
      "Epoch 20/100\n",
      "50000/50000 [==============================] - 25s 494us/step - loss: 0.6750 - accuracy: 0.7589 - val_loss: 1.8158 - val_accuracy: 0.5107\n",
      "Epoch 21/100\n",
      "50000/50000 [==============================] - 24s 478us/step - loss: 0.6612 - accuracy: 0.7642 - val_loss: 1.6977 - val_accuracy: 0.5192\n",
      "Epoch 22/100\n",
      "50000/50000 [==============================] - 24s 481us/step - loss: 0.6540 - accuracy: 0.7651 - val_loss: 1.7605 - val_accuracy: 0.5193\n",
      "Epoch 23/100\n",
      "50000/50000 [==============================] - 24s 482us/step - loss: 0.6297 - accuracy: 0.7752 - val_loss: 1.8079 - val_accuracy: 0.5182\n",
      "Epoch 24/100\n",
      "50000/50000 [==============================] - 24s 477us/step - loss: 0.6200 - accuracy: 0.7770 - val_loss: 1.8593 - val_accuracy: 0.5123\n",
      "Epoch 25/100\n",
      "50000/50000 [==============================] - 24s 480us/step - loss: 0.6101 - accuracy: 0.7815 - val_loss: 1.8708 - val_accuracy: 0.5160\n",
      "Epoch 26/100\n",
      "50000/50000 [==============================] - 24s 474us/step - loss: 0.6052 - accuracy: 0.7828 - val_loss: 1.8753 - val_accuracy: 0.5181\n",
      "Epoch 27/100\n",
      "50000/50000 [==============================] - 23s 469us/step - loss: 0.5835 - accuracy: 0.7920 - val_loss: 1.8514 - val_accuracy: 0.5141\n",
      "Epoch 28/100\n",
      "50000/50000 [==============================] - 23s 463us/step - loss: 0.5827 - accuracy: 0.7913 - val_loss: 1.9756 - val_accuracy: 0.5192\n",
      "Epoch 29/100\n",
      "50000/50000 [==============================] - 23s 462us/step - loss: 0.5608 - accuracy: 0.8001 - val_loss: 1.9870 - val_accuracy: 0.5133\n",
      "Epoch 30/100\n",
      "50000/50000 [==============================] - 24s 478us/step - loss: 0.5496 - accuracy: 0.8022 - val_loss: 2.0269 - val_accuracy: 0.5074\n",
      "Epoch 31/100\n",
      "50000/50000 [==============================] - 25s 496us/step - loss: 0.5454 - accuracy: 0.8036 - val_loss: 2.0345 - val_accuracy: 0.5129\n",
      "Epoch 32/100\n",
      "50000/50000 [==============================] - 24s 482us/step - loss: 0.5468 - accuracy: 0.8035 - val_loss: 2.0950 - val_accuracy: 0.5055\n",
      "Epoch 33/100\n",
      "50000/50000 [==============================] - 24s 471us/step - loss: 0.5213 - accuracy: 0.8143 - val_loss: 2.1034 - val_accuracy: 0.5085\n",
      "Epoch 34/100\n",
      "50000/50000 [==============================] - 24s 477us/step - loss: 0.5059 - accuracy: 0.8167 - val_loss: 2.1534 - val_accuracy: 0.5011\n",
      "Epoch 35/100\n",
      "50000/50000 [==============================] - 24s 473us/step - loss: 0.4928 - accuracy: 0.8253 - val_loss: 2.1148 - val_accuracy: 0.5210\n",
      "Epoch 36/100\n",
      "50000/50000 [==============================] - 24s 484us/step - loss: 0.4926 - accuracy: 0.8245 - val_loss: 2.1992 - val_accuracy: 0.5071\n",
      "Epoch 37/100\n",
      "50000/50000 [==============================] - 24s 477us/step - loss: 0.4885 - accuracy: 0.8233 - val_loss: 2.2051 - val_accuracy: 0.5147\n",
      "Epoch 38/100\n",
      "50000/50000 [==============================] - 24s 483us/step - loss: 0.4680 - accuracy: 0.8317 - val_loss: 2.3106 - val_accuracy: 0.4972\n",
      "Epoch 39/100\n",
      "50000/50000 [==============================] - 23s 461us/step - loss: 0.4630 - accuracy: 0.8334 - val_loss: 2.3011 - val_accuracy: 0.5084\n",
      "Epoch 40/100\n",
      "50000/50000 [==============================] - 23s 466us/step - loss: 0.4728 - accuracy: 0.8318 - val_loss: 2.3554 - val_accuracy: 0.5008\n",
      "Epoch 41/100\n",
      "50000/50000 [==============================] - 24s 475us/step - loss: 0.4510 - accuracy: 0.8395 - val_loss: 2.3404 - val_accuracy: 0.5073\n",
      "Epoch 42/100\n",
      "50000/50000 [==============================] - 23s 466us/step - loss: 0.4327 - accuracy: 0.8455 - val_loss: 2.3232 - val_accuracy: 0.5078\n",
      "Epoch 43/100\n",
      "50000/50000 [==============================] - 23s 458us/step - loss: 0.4416 - accuracy: 0.8409 - val_loss: 2.4227 - val_accuracy: 0.5089\n",
      "Epoch 44/100\n",
      "50000/50000 [==============================] - 23s 462us/step - loss: 0.4228 - accuracy: 0.8486 - val_loss: 2.4240 - val_accuracy: 0.5086\n",
      "Epoch 45/100\n",
      "50000/50000 [==============================] - 23s 463us/step - loss: 0.4331 - accuracy: 0.8452 - val_loss: 2.4871 - val_accuracy: 0.5066\n",
      "Epoch 46/100\n",
      "50000/50000 [==============================] - 23s 469us/step - loss: 0.4073 - accuracy: 0.8529 - val_loss: 2.5139 - val_accuracy: 0.4981\n",
      "Epoch 47/100\n",
      "50000/50000 [==============================] - 23s 467us/step - loss: 0.4181 - accuracy: 0.8503 - val_loss: 2.5495 - val_accuracy: 0.5054\n",
      "Epoch 48/100\n",
      "50000/50000 [==============================] - 23s 470us/step - loss: 0.4210 - accuracy: 0.8490 - val_loss: 2.5002 - val_accuracy: 0.5086\n",
      "Epoch 49/100\n",
      "50000/50000 [==============================] - 23s 457us/step - loss: 0.4118 - accuracy: 0.8529 - val_loss: 2.4786 - val_accuracy: 0.5089\n",
      "Epoch 50/100\n",
      "50000/50000 [==============================] - 24s 473us/step - loss: 0.3856 - accuracy: 0.8629 - val_loss: 2.7123 - val_accuracy: 0.4953\n",
      "Epoch 51/100\n",
      "50000/50000 [==============================] - 23s 467us/step - loss: 0.3742 - accuracy: 0.8655 - val_loss: 2.6214 - val_accuracy: 0.5120\n",
      "Epoch 52/100\n",
      "50000/50000 [==============================] - 23s 463us/step - loss: 0.3839 - accuracy: 0.8606 - val_loss: 2.5517 - val_accuracy: 0.5005\n",
      "Epoch 53/100\n",
      "50000/50000 [==============================] - 23s 463us/step - loss: 0.3610 - accuracy: 0.8708 - val_loss: 2.7254 - val_accuracy: 0.5042\n",
      "Epoch 54/100\n",
      "50000/50000 [==============================] - 23s 461us/step - loss: 0.3852 - accuracy: 0.8613 - val_loss: 2.6883 - val_accuracy: 0.4990\n"
     ]
    },
    {
     "name": "stdout",
     "output_type": "stream",
     "text": [
      "Epoch 55/100\n",
      "50000/50000 [==============================] - 23s 467us/step - loss: 0.3651 - accuracy: 0.8684 - val_loss: 2.7788 - val_accuracy: 0.5107\n",
      "Epoch 56/100\n",
      "50000/50000 [==============================] - 23s 468us/step - loss: 0.3515 - accuracy: 0.8738 - val_loss: 2.8244 - val_accuracy: 0.5048\n",
      "Epoch 57/100\n",
      "50000/50000 [==============================] - 23s 463us/step - loss: 0.3437 - accuracy: 0.8754 - val_loss: 2.7960 - val_accuracy: 0.5015\n",
      "Epoch 58/100\n",
      "50000/50000 [==============================] - 24s 472us/step - loss: 0.3397 - accuracy: 0.8778 - val_loss: 2.7684 - val_accuracy: 0.4992\n",
      "Epoch 59/100\n",
      "50000/50000 [==============================] - 23s 467us/step - loss: 0.3542 - accuracy: 0.8731 - val_loss: 2.9446 - val_accuracy: 0.5044\n",
      "Epoch 60/100\n",
      "50000/50000 [==============================] - 23s 460us/step - loss: 0.3246 - accuracy: 0.8836 - val_loss: 2.9654 - val_accuracy: 0.4998\n",
      "Epoch 61/100\n",
      "50000/50000 [==============================] - 24s 477us/step - loss: 0.3233 - accuracy: 0.8845 - val_loss: 3.0084 - val_accuracy: 0.4971\n",
      "Epoch 62/100\n",
      "50000/50000 [==============================] - 25s 498us/step - loss: 0.3322 - accuracy: 0.8799 - val_loss: 2.9377 - val_accuracy: 0.4988\n",
      "Epoch 63/100\n",
      "50000/50000 [==============================] - 24s 479us/step - loss: 0.3411 - accuracy: 0.8760 - val_loss: 3.1022 - val_accuracy: 0.5013\n",
      "Epoch 64/100\n",
      "50000/50000 [==============================] - 24s 484us/step - loss: 0.3258 - accuracy: 0.8833 - val_loss: 3.1333 - val_accuracy: 0.5065\n",
      "Epoch 65/100\n",
      "50000/50000 [==============================] - 24s 490us/step - loss: 0.3167 - accuracy: 0.8864 - val_loss: 2.9585 - val_accuracy: 0.5021\n",
      "Epoch 66/100\n",
      "50000/50000 [==============================] - 25s 504us/step - loss: 0.3048 - accuracy: 0.8910 - val_loss: 3.1385 - val_accuracy: 0.4949\n",
      "Epoch 67/100\n",
      "50000/50000 [==============================] - 25s 499us/step - loss: 0.2956 - accuracy: 0.8945 - val_loss: 3.0486 - val_accuracy: 0.5030\n",
      "Epoch 68/100\n",
      "50000/50000 [==============================] - 24s 483us/step - loss: 0.2949 - accuracy: 0.8941 - val_loss: 3.1403 - val_accuracy: 0.5018\n",
      "Epoch 69/100\n",
      "50000/50000 [==============================] - 25s 495us/step - loss: 0.2807 - accuracy: 0.9001 - val_loss: 3.2476 - val_accuracy: 0.4942\n",
      "Epoch 70/100\n",
      "50000/50000 [==============================] - 25s 492us/step - loss: 0.2798 - accuracy: 0.8998 - val_loss: 3.3671 - val_accuracy: 0.4985\n",
      "Epoch 71/100\n",
      "50000/50000 [==============================] - 25s 508us/step - loss: 0.2788 - accuracy: 0.9004 - val_loss: 3.3279 - val_accuracy: 0.4978\n",
      "Epoch 72/100\n",
      "50000/50000 [==============================] - 24s 484us/step - loss: 0.3062 - accuracy: 0.8890 - val_loss: 3.3036 - val_accuracy: 0.4925\n",
      "Epoch 73/100\n",
      "50000/50000 [==============================] - 24s 486us/step - loss: 0.2759 - accuracy: 0.9003 - val_loss: 3.3203 - val_accuracy: 0.4994\n",
      "Epoch 74/100\n",
      "50000/50000 [==============================] - 24s 479us/step - loss: 0.2869 - accuracy: 0.8969 - val_loss: 3.3446 - val_accuracy: 0.4972\n",
      "Epoch 75/100\n",
      "50000/50000 [==============================] - 24s 489us/step - loss: 0.2772 - accuracy: 0.9010 - val_loss: 3.4964 - val_accuracy: 0.5003\n",
      "Epoch 76/100\n",
      "50000/50000 [==============================] - 25s 502us/step - loss: 0.2615 - accuracy: 0.9068 - val_loss: 3.5948 - val_accuracy: 0.4939\n",
      "Epoch 77/100\n",
      "50000/50000 [==============================] - 25s 499us/step - loss: 0.2725 - accuracy: 0.9018 - val_loss: 3.5321 - val_accuracy: 0.5000\n",
      "Epoch 78/100\n",
      "50000/50000 [==============================] - 25s 496us/step - loss: 0.2629 - accuracy: 0.9068 - val_loss: 3.4720 - val_accuracy: 0.4998\n",
      "Epoch 79/100\n",
      "50000/50000 [==============================] - 24s 474us/step - loss: 0.2507 - accuracy: 0.9110 - val_loss: 3.4884 - val_accuracy: 0.4971\n",
      "Epoch 80/100\n",
      "50000/50000 [==============================] - 24s 480us/step - loss: 0.2881 - accuracy: 0.8966 - val_loss: 3.5439 - val_accuracy: 0.4982\n",
      "Epoch 81/100\n",
      "50000/50000 [==============================] - 24s 483us/step - loss: 0.2609 - accuracy: 0.9078 - val_loss: 3.5638 - val_accuracy: 0.5007\n",
      "Epoch 82/100\n",
      "50000/50000 [==============================] - 25s 494us/step - loss: 0.2818 - accuracy: 0.8985 - val_loss: 3.5262 - val_accuracy: 0.5025\n",
      "Epoch 83/100\n",
      "50000/50000 [==============================] - 24s 489us/step - loss: 0.2343 - accuracy: 0.9159 - val_loss: 3.6192 - val_accuracy: 0.4968\n",
      "Epoch 84/100\n",
      "50000/50000 [==============================] - 25s 496us/step - loss: 0.2430 - accuracy: 0.9125 - val_loss: 3.6316 - val_accuracy: 0.4960\n",
      "Epoch 85/100\n",
      "50000/50000 [==============================] - 24s 490us/step - loss: 0.2381 - accuracy: 0.9151 - val_loss: 3.7234 - val_accuracy: 0.5029\n",
      "Epoch 86/100\n",
      "50000/50000 [==============================] - 25s 504us/step - loss: 0.2741 - accuracy: 0.9016 - val_loss: 3.6257 - val_accuracy: 0.4961\n",
      "Epoch 87/100\n",
      "50000/50000 [==============================] - 24s 478us/step - loss: 0.2717 - accuracy: 0.9019 - val_loss: 3.7105 - val_accuracy: 0.4897\n",
      "Epoch 88/100\n",
      "50000/50000 [==============================] - 24s 477us/step - loss: 0.2659 - accuracy: 0.9042 - val_loss: 3.9269 - val_accuracy: 0.4949\n",
      "Epoch 89/100\n",
      "50000/50000 [==============================] - 23s 463us/step - loss: 0.2165 - accuracy: 0.9235 - val_loss: 3.7643 - val_accuracy: 0.4976\n",
      "Epoch 90/100\n",
      "50000/50000 [==============================] - 24s 471us/step - loss: 0.2056 - accuracy: 0.9266 - val_loss: 3.7865 - val_accuracy: 0.4961\n",
      "Epoch 91/100\n",
      "50000/50000 [==============================] - 23s 467us/step - loss: 0.2559 - accuracy: 0.9087 - val_loss: 3.8304 - val_accuracy: 0.4958\n",
      "Epoch 92/100\n",
      "50000/50000 [==============================] - 24s 471us/step - loss: 0.2411 - accuracy: 0.9124 - val_loss: 3.8962 - val_accuracy: 0.4963\n",
      "Epoch 93/100\n",
      "50000/50000 [==============================] - 25s 490us/step - loss: 0.2186 - accuracy: 0.9228 - val_loss: 3.9129 - val_accuracy: 0.5016\n",
      "Epoch 94/100\n",
      "50000/50000 [==============================] - 24s 489us/step - loss: 0.2200 - accuracy: 0.9227 - val_loss: 3.8765 - val_accuracy: 0.4899\n",
      "Epoch 95/100\n",
      "50000/50000 [==============================] - 24s 481us/step - loss: 0.2395 - accuracy: 0.9141 - val_loss: 3.9128 - val_accuracy: 0.4958\n",
      "Epoch 96/100\n",
      "50000/50000 [==============================] - 25s 502us/step - loss: 0.2196 - accuracy: 0.9214 - val_loss: 3.9234 - val_accuracy: 0.4956\n",
      "Epoch 97/100\n",
      "50000/50000 [==============================] - 24s 489us/step - loss: 0.2808 - accuracy: 0.8994 - val_loss: 3.9127 - val_accuracy: 0.4985\n",
      "Epoch 98/100\n",
      "50000/50000 [==============================] - 24s 489us/step - loss: 0.2179 - accuracy: 0.9215 - val_loss: 3.9255 - val_accuracy: 0.4989\n",
      "Epoch 99/100\n",
      "50000/50000 [==============================] - 24s 478us/step - loss: 0.2027 - accuracy: 0.9288 - val_loss: 4.0522 - val_accuracy: 0.5000\n",
      "Epoch 100/100\n",
      "50000/50000 [==============================] - 24s 477us/step - loss: 0.2254 - accuracy: 0.9194 - val_loss: 4.1294 - val_accuracy: 0.5039\n"
     ]
    },
    {
     "data": {
      "text/plain": [
       "<keras.callbacks.callbacks.History at 0x28cb66c8>"
      ]
     },
     "execution_count": 7,
     "metadata": {},
     "output_type": "execute_result"
    }
   ],
   "source": [
    "# 訓練模型並檢視驗證集的結果\n",
    "model.fit(x_train, y_train, \n",
    "          epochs=100, \n",
    "          batch_size=256, \n",
    "          validation_data=(x_test, y_test), \n",
    "          shuffle=True)"
   ]
  },
  {
   "cell_type": "code",
   "execution_count": 9,
   "metadata": {},
   "outputs": [
    {
     "data": {
      "image/png": "[encoded data removed]",
      "text/plain": [
       "<Figure size 432x288 with 1 Axes>"
      ]
     },
     "metadata": {
      "needs_background": "light"
     },
     "output_type": "display_data"
    },
    {
     "data": {
      "image/png": "[encoded data removed]",
      "text/plain": [
       "<Figure size 432x288 with 1 Axes>"
      ]
     },
     "metadata": {
      "needs_background": "light"
     },
     "output_type": "display_data"
    }
   ],
   "source": [
    "# 以視覺畫方式檢視訓練過程\n",
    "import matplotlib.pyplot as plt\n",
    "train_loss = model.history.history[\"loss\"]\n",
    "valid_loss = model.history.history[\"val_loss\"]\n",
    "\n",
    "train_acc = model.history.history[\"accuracy\"]\n",
    "valid_acc = model.history.history[\"val_accuracy\"]\n",
    "\n",
    "plt.plot(range(len(train_loss)), train_loss, label=\"train loss\")\n",
    "plt.plot(range(len(valid_loss)), valid_loss, label=\"valid loss\")\n",
    "plt.legend()\n",
    "plt.title(\"Loss\")\n",
    "plt.show()\n",
    "\n",
    "plt.plot(range(len(train_acc)), train_acc, label=\"train accuracy\")\n",
    "plt.plot(range(len(valid_acc)), valid_acc, label=\"valid accuracy\")\n",
    "plt.legend()\n",
    "plt.title(\"Accuracy\")\n",
    "plt.show()"
   ]
  },
  {
   "cell_type": "markdown",
   "metadata": {},
   "source": [
    "## 作業\n",
    "1. 請將 Epoch 加到 500 個，並觀察 learning curve 的走勢\n",
    "2. 請將 Optimizer 換成 SGD，並觀察 learning curve 的走勢"
   ]
  }
 ],
 "metadata": {
  "kernelspec": {
   "display_name": "Python 3",
   "language": "python",
   "name": "python3"
  },
  "language_info": {
   "codemirror_mode": {
    "name": "ipython",
    "version": 3
   },
   "file_extension": ".py",
   "mimetype": "text/x-python",
   "name": "python",
   "nbconvert_exporter": "python",
   "pygments_lexer": "ipython3",
   "version": "3.7.4"
  }
 },
 "nbformat": 4,
 "nbformat_minor": 2
}
